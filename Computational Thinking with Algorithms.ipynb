{
 "cells": [
  {
   "cell_type": "markdown",
   "metadata": {},
   "source": [
    "# Project 2020\n",
    "\n",
    "## Benchmarking Sorting Algorithms\n",
    "\n",
    "#### Karolina Szafran-Belzowska, G00376368\n"
   ]
  },
  {
   "cell_type": "code",
   "execution_count": null,
   "metadata": {},
   "outputs": [],
   "source": []
  },
  {
   "cell_type": "code",
   "execution_count": null,
   "metadata": {},
   "outputs": [],
   "source": []
  },
  {
   "cell_type": "code",
   "execution_count": null,
   "metadata": {},
   "outputs": [],
   "source": []
  },
  {
   "cell_type": "code",
   "execution_count": null,
   "metadata": {},
   "outputs": [],
   "source": []
  },
  {
   "cell_type": "code",
   "execution_count": null,
   "metadata": {},
   "outputs": [],
   "source": []
  },
  {
   "cell_type": "markdown",
   "metadata": {},
   "source": [
    "[**Bubble sort**](https://en.wikipedia.org/wiki/Bubble_sort), one of the simplest algorithms for sorting an array, consists of repeatedly exchanging pairs of adjacent array elements that are out of order until no such pair remains. \n",
    "The serial software implementation of bubble sort has a time complexity that is **tex2html_wrap_inline43**(?) in the number of elements - only one pair of numbers can be examined at a time, and n passes must be taken through the array, where n is the number of elements. **In contrast, by parallelizing exchanges, the RawCS parallel hardware version sorts elements in a number of clock cycles that is linear with n, and requires an amount of hardware on the order of n.**\n",
    "This type of sort is a slow-and-predictable sorting algorithm."
   ]
  },
  {
   "cell_type": "markdown",
   "metadata": {},
   "source": [
    "https://groups.csail.mit.edu/cag/raw/benchmark/suites/bubblesort/README.html\n",
    "\n",
    "http://rperl.org/performance_benchmarks_bubble.html"
   ]
  },
  {
   "cell_type": "code",
   "execution_count": null,
   "metadata": {},
   "outputs": [],
   "source": []
  }
 ],
 "metadata": {
  "kernelspec": {
   "display_name": "Python 3",
   "language": "python",
   "name": "python3"
  },
  "language_info": {
   "codemirror_mode": {
    "name": "ipython",
    "version": 3
   },
   "file_extension": ".py",
   "mimetype": "text/x-python",
   "name": "python",
   "nbconvert_exporter": "python",
   "pygments_lexer": "ipython3",
   "version": "3.7.1"
  }
 },
 "nbformat": 4,
 "nbformat_minor": 2
}
