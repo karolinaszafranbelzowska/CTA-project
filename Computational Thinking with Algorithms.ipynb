{
 "cells": [
  {
   "cell_type": "markdown",
   "metadata": {},
   "source": [
    "# Project 2020\n",
    "\n",
    "## Benchmarking Sorting Algorithms\n",
    "\n",
    "### **Karolina Szafran-Belzowska, G00376368**\n"
   ]
  },
  {
   "cell_type": "markdown",
   "metadata": {},
   "source": [
    "#### **Project specification**"
   ]
  },
  {
   "cell_type": "markdown",
   "metadata": {},
   "source": [
    "This project contains a Python application which will be used for benchmark five diffferent sorting algorithms. The project is \n",
    "divided into several parts: Introduction **...write sthg about**"
   ]
  },
  {
   "cell_type": "markdown",
   "metadata": {},
   "source": [
    "## Python Application"
   ]
  },
  {
   "cell_type": "code",
   "execution_count": null,
   "metadata": {},
   "outputs": [],
   "source": []
  },
  {
   "cell_type": "code",
   "execution_count": null,
   "metadata": {},
   "outputs": [],
   "source": []
  },
  {
   "cell_type": "code",
   "execution_count": null,
   "metadata": {},
   "outputs": [],
   "source": []
  },
  {
   "cell_type": "code",
   "execution_count": null,
   "metadata": {},
   "outputs": [],
   "source": []
  },
  {
   "cell_type": "code",
   "execution_count": null,
   "metadata": {},
   "outputs": [],
   "source": []
  },
  {
   "cell_type": "code",
   "execution_count": null,
   "metadata": {},
   "outputs": [],
   "source": []
  },
  {
   "cell_type": "markdown",
   "metadata": {},
   "source": [
    "#### **Benchmarking**"
   ]
  },
  {
   "cell_type": "markdown",
   "metadata": {},
   "source": [
    "The main idea of benchmarking is to figure out how fast the code executes and where the bottlenecks are. These actions lead to optimization. There are situations where you need your code to run faster because your business needs have changed, and you need to figure out what parts of your code are slowing it down.\n",
    "https://www.blog.pythonlibrary.org/2016/05/24/python-101-an-intro-to-benchmarking-your-code/"
   ]
  },
  {
   "cell_type": "markdown",
   "metadata": {},
   "source": [
    "#### **Sorting Algorithm**"
   ]
  },
  {
   "cell_type": "markdown",
   "metadata": {},
   "source": [
    "A Sorting Algorithm is used to rearrange a given array or list elements according to a comparison operator on the elements. The comparison operator is used to decide the new order of element in the respective data structure. \n",
    "Choosing the best sorting algorithm is as about knowing what you are sorting as it is about the relative performance of the algorithms.\n",
    "\n",
    "An _in-place_ sorting algorithm uses constant extra space for producing the output. It sorts the list only by modifying the order of the elements within the list. When all data that needs to be sorted cannot be placed in-memory at a time, the sorting is called _external sorting_. External Sorting is used for massive amount of data. When all data is placed in-memory, then sorting is called _internal sorting._\n",
    "\n",
    "_Stability_ is mainly important when we have key value pairs with duplicate keys possible (like people names as keys and their details as values). And we wish to sort these objects by keys. So, stability means that equivalent elements retain their relative positions, after sorting.\n",
    "\n",
    "https://en.wikipedia.org/wiki/Sorting_algorithm#Stability\n",
    "\n",
    "A **comparison sort** is a type of sorting algorithm that only reads the list elements through a single abstract comparison operation (often a \"less than or equal to\" operator or a three-way comparison) that determines which of two elements should occur first in the final sorted list. https://en.wikipedia.org/wiki/Comparison_sort\n",
    "\n",
    "Some of comparison sorts:\n",
    "```\n",
    "Bubble Sort\n",
    "Selection Sort\n",
    "Insertion Sort\n",
    "Merge Sort\n",
    "Quick Sort\n",
    "Heap Sort\n",
    "Shell Sort\n",
    "Block Sort\n",
    "```\n",
    "A **non-comparison sort** algorithm uses the internal character of the values to be sorted. It can only be applied to some particular cases, and requires particular values. And the best complexity is probably better depending on cases, such as O(n).\n",
    "https://stackoverflow.com/questions/25788781/definition-of-non-comparison-sort\n",
    "\n",
    "Some of non-comparison sorts:\n",
    "```\n",
    "Counting Sort\n",
    "Bucket Sort\n",
    "Postman Sort\n",
    "Flash Sort\n",
    "Burst Sort\n",
    "```\n",
    "\n",
    "First of many differences between these two sorting algorithms is _speed_. Non-comparison sorting is usually faster than sorting because of not doing the comparison. The limit of speed for comparison-based sorting algorithm is O(NlogN) while for non-comparison based algorithms its O(n) i.e. linear time.\n",
    "Second comparison based sorting algorithm e.g. QuickSort, Merge Sort. or Heap Sort requires a Comparator to sort elements e.g. while sorting an array of String, but non-comparison based sorting algorithms doesn't require any comparator.\n",
    "Non-Comparison based sorting algorithm can use to sort any object provided. A non-comparison based sorting algorithm can not be used to sort anything other than integers, that's why they are also known as integer sorting.\n",
    "The best case for memory complexity with the comparison based sorting is O(1) because it's possible to sort an array of numbers in place. On the other hand, memory complexity for non-comparison based sorting algorithm is always O(n).\n",
    "The lower bound of CPU complexity or how much time it take for the algorithm to sort n numbers in the worst case is O(NlogN), but in the case of non-comparison based sorting the CPU complexity lower bound is O(n).\n",
    "\n"
   ]
  },
  {
   "cell_type": "markdown",
   "metadata": {},
   "source": [
    "#### **Bubble Sort** as a simple comparison-based sort"
   ]
  },
  {
   "cell_type": "markdown",
   "metadata": {},
   "source": [
    "[**Bubble sort**](https://en.wikipedia.org/wiki/Bubble_sort), one of the simplest algorithms for sorting an array, consists of repeatedly exchanging pairs of adjacent array elements that are out of order until no such pair remains. \n",
    "The serial software implementation of bubble sort has a time complexity that is: \n",
    "> **Worst and Average Case Time Complexity:** O(n*2). Worst case occurs when array is reverse sorted.\n",
    "\n",
    "> **Best Case Time Complexity:** O(n). Best case occurs when array is already sorted.\n",
    "\n",
    "This type of sort is a slow-and-predictable sorting algorithm. Is often used to introduce the concept of a sorting algorithm."
   ]
  },
  {
   "cell_type": "markdown",
   "metadata": {},
   "source": [
    "https://groups.csail.mit.edu/cag/raw/benchmark/suites/bubblesort/README.html\n",
    "\n",
    "http://rperl.org/performance_benchmarks_bubble.html\n",
    "\n",
    "https://www.youtube.com/watch?v=AthG28-_RuM&t=445s\n",
    "\n",
    "https://www.geeksforgeeks.org/time-complexities-of-all-sorting-algorithms/\n",
    "\n",
    "https://www.tutorialspoint.com/python_data_structure/python_sorting_algorithms.htm"
   ]
  },
  {
   "cell_type": "markdown",
   "metadata": {},
   "source": [
    "## An implementation of Bubble Sort"
   ]
  },
  {
   "cell_type": "markdown",
   "metadata": {},
   "source": [
    "### Example 1:"
   ]
  },
  {
   "cell_type": "code",
   "execution_count": 8,
   "metadata": {},
   "outputs": [
    {
     "name": "stdout",
     "output_type": "stream",
     "text": [
      "Enter size of the list: 6\n",
      "Enter the element:\t12\n",
      "Enter the element:\t06\n",
      "Enter the element:\t35\n",
      "Enter the element:\t95\n",
      "Enter the element:\t28\n",
      "Enter the element:\t64\n",
      "['06', '12', '28', '35', '64', '95']\n"
     ]
    }
   ],
   "source": [
    "# Defining bubble sort function\n",
    "def bubble_sort(sort_list): # an argument called sort_list\n",
    "    \n",
    "    for i in range(len(sort_list)): \n",
    "        for j in range (len(sort_list)-1):\n",
    "            \n",
    "            # compare the item on the left with the item on the right and if it's larger then swap places\n",
    "            if sort_list[j]>sort_list[j+1]:\n",
    "                sort_list[j], sort_list[j+1] = sort_list[j+1], sort_list[j]\n",
    "    print(sort_list)\n",
    "\n",
    "\n",
    "# Create an empty array and size of the list\n",
    "lst=[]\n",
    "size = int(input(\"Enter size of the list: \"))\n",
    "\n",
    "# Enter n elements of the list\n",
    "for i in range(size):\n",
    "    elements = input(\"Enter the element:\\t\")\n",
    "    lst.append(elements)\n",
    "\n",
    "# print a Bubble sorted list\n",
    "bubble_sort(lst)\n",
    " "
   ]
  },
  {
   "cell_type": "markdown",
   "metadata": {},
   "source": [
    "### Example 2"
   ]
  },
  {
   "cell_type": "code",
   "execution_count": 7,
   "metadata": {},
   "outputs": [
    {
     "name": "stdout",
     "output_type": "stream",
     "text": [
      "[6, 12, 29, 33, 46.59, 65, 72, 84, 98, 102, 587]\n"
     ]
    }
   ],
   "source": [
    "# # Defining bubble sort function\n",
    "def bubble_sort(sort_list): \n",
    "\n",
    "    for i in range(len(sort_list)-1,0,-1): # outer for loop to swap the elements in correct order\n",
    "        for j in range(i):\n",
    "            \n",
    "            # compare the item on the left with the item on the right and if it's larger then swap places\n",
    "            if sort_list[j] > sort_list[j+1]: \n",
    "                temp = sort_list[j]\n",
    "                sort_list[j] = sort_list[j+1]\n",
    "                sort_list[j+1] = temp\n",
    "\n",
    "\n",
    "# Create a list to use a Babble sort\n",
    "list = [98,65,29,12,6,102,587,33,46.59,72,84]\n",
    "\n",
    "# Call the function\n",
    "bubble_sort(list)\n",
    "print(list)"
   ]
  },
  {
   "cell_type": "markdown",
   "metadata": {},
   "source": [
    "### Example 3"
   ]
  },
  {
   "cell_type": "code",
   "execution_count": 6,
   "metadata": {},
   "outputs": [
    {
     "name": "stdout",
     "output_type": "stream",
     "text": [
      "['a', 'c', 'd', 'e', 'f', 'g', 'k', 'w', 'z']\n"
     ]
    }
   ],
   "source": [
    "# Defining bubble sort function\n",
    "def bubble_sort(sort_list): # an argument called sort_list\n",
    "    \n",
    "    for i in range(0,len(sort_list)-1): # outer for loop to swap the elements in correct order\n",
    "        for j in range(0, len(sort_list)-1 -i): # inner for loop\n",
    "            \n",
    "            # compare the item on the left with the item on the right and if it's larger then swap places\n",
    "            if sort_list[j] > sort_list[j+1]:\n",
    "                sort_list[j], sort_list[j+1] = sort_list[j+1], sort_list[j]\n",
    "    return sort_list\n",
    "\n",
    "# # Create a list to use a Babble sort\n",
    "myList = [\"z\", \"g\", \"a\", \"k\", \"f\", \"c\", \"e\", \"d\", \"w\"]\n",
    "\n",
    "# Call the function\n",
    "print(bubble_sort(myList))"
   ]
  },
  {
   "cell_type": "markdown",
   "metadata": {},
   "source": [
    "#### **Insertion Sort**  -  simple comparison-based sort (my choice)"
   ]
  },
  {
   "cell_type": "markdown",
   "metadata": {},
   "source": [
    "[**Insertion sort**](https://en.wikipedia.org/wiki/Insertion_sort) is a simple sorting algorithm that works the way we sort playing cards in our hands. Insertion sort takes maximum time to sort if elements are sorted in reverse order. And it takes minimum time when elements are already sorted. Insertion sort is used when number of elements is small. It can also be useful when input array is almost sorted, only few elements are misplaced in complete big array.\n",
    "\n",
    "It involves finding the right place for a given element in a list.  At the beginning the function compares the first two elements and sorts them by comparing them. Then the third element needs to find its proper position among the previous two sorted elements. This way more and more elements are added to the already sorted list by putting them in their proper position.\n",
    "\n",
    "Time Complexity: O(n*2)\n",
    "\n",
    "https://www.youtube.com/watch?v=AgtzMtrzhzs\n",
    "\n",
    "https://www.geeksforgeeks.org/insertion-sort/\n",
    "\n",
    "https://www.tutorialspoint.com/python_data_structure/python_sorting_algorithms.htm"
   ]
  },
  {
   "cell_type": "markdown",
   "metadata": {},
   "source": [
    "## An implementation of Inserion Sort"
   ]
  },
  {
   "cell_type": "markdown",
   "metadata": {},
   "source": [
    "### Example 1"
   ]
  },
  {
   "cell_type": "code",
   "execution_count": 9,
   "metadata": {},
   "outputs": [
    {
     "name": "stdout",
     "output_type": "stream",
     "text": [
      "[5, 12, 15, 17, 21, 25, 29, 30, 31, 33, 76, 82, 105]\n"
     ]
    }
   ],
   "source": [
    "# Defining insertion sort function\n",
    "def insertion_sort(sort_list):\n",
    "    for i in range (1, len(sort_list)):\n",
    "        currentValue = sort_list[i] # create kind of temporary variables\n",
    "        position = i  # position which I am checking is equal to i index of the character\n",
    "        \n",
    "        while (position > 0) and (sort_list[position - 1] > currentValue):\n",
    "                             # while loop will check all numbers until they get\n",
    "                             # the right place and every time I'll do this\n",
    "                             # I want to reduce position by 1.\n",
    "            sort_list[position] = sort_list [position - 1]                 \n",
    "            position -= 1                                                  \n",
    "            \n",
    "            sort_list[position] = currentValue\n",
    "\n",
    "# If I want to use an Insertion sort function I need to create a list which is called \"sort_list\" \n",
    "sort_list = [12,15,25,31,21,5,82,76,30,29,33,17,105]\n",
    "\n",
    "# Call the function\n",
    "insertion_sort(sort_list)\n",
    "print(sort_list)\n"
   ]
  },
  {
   "cell_type": "markdown",
   "metadata": {},
   "source": [
    "### Example 2"
   ]
  },
  {
   "cell_type": "code",
   "execution_count": 11,
   "metadata": {},
   "outputs": [
    {
     "name": "stdout",
     "output_type": "stream",
     "text": [
      "[1, 6, 15, 15, 26, 29, 33, 46, 51, 68, 78, 82, 89, 94, 256, 684]\n"
     ]
    }
   ],
   "source": [
    "# Defining insertion sort function\n",
    "def insertion_sort(sort_list):\n",
    "    for i in range(1, len(sort_list)):\n",
    "        j = i-1\n",
    "        nxt_element = sort_list[i]\n",
    "\n",
    "        # Compare the current element with the next one\n",
    "        while (sort_list[j] > nxt_element) and (j >= 0):\n",
    "            sort_list[j+1] = sort_list[j]\n",
    "            j=j-1\n",
    "        sort_list[j+1] = nxt_element\n",
    "\n",
    "# Create a list to use an Insertion sort\n",
    "list = [1,15,68,256,94,78,33,46,51,684,82,26,89,15,6,29]\n",
    "\n",
    "# Call the function\n",
    "insertion_sort(list)\n",
    "print(list)"
   ]
  },
  {
   "cell_type": "markdown",
   "metadata": {},
   "source": [
    "## An implementation of Merge Sort"
   ]
  },
  {
   "cell_type": "markdown",
   "metadata": {},
   "source": [
    "### Example 1"
   ]
  },
  {
   "cell_type": "code",
   "execution_count": 5,
   "metadata": {},
   "outputs": [
    {
     "name": "stdout",
     "output_type": "stream",
     "text": [
      "[11, 12, 16, 20, 25, 26, 33, 45, 69, 70]\n"
     ]
    }
   ],
   "source": [
    "# Taken from: https://www.youtube.com/watch?v=3aTfQvs-_hA on 30/04/2020\n",
    "# Defining a Merge sort function\n",
    "def merge(a,b):\n",
    "    c=[]  # That will be final and sorted array\n",
    "    a_idx,b_idx = 0,0\n",
    "    while a_idx < len(a) and b_idx < len(b):      \n",
    "               # while loop will repeat until all elements are used. On each repeat\n",
    "               # all elements are compared and appended whichever is smaller onto a new merged arrays.\n",
    "        if a[a_idx] < b[b_idx]:                    \n",
    "            c.append(a[a_idx])                     \n",
    "            a_idx += 1\n",
    "        else:\n",
    "            c.append(b[b_idx])\n",
    "            b_idx += 1\n",
    "    if a_idx == len(a): c.extend(b[b_idx:])        \n",
    "    else:               c.extend(a[a_idx:])        \n",
    "    return c\n",
    "              # At the end of the while loop I extended the merged list with two input arrays\n",
    "\n",
    "# If I want to use a Merge sort function I need to create two lists: a and b\n",
    "a= [12,16,20,25,69]\n",
    "b= [11,26,33,45,70]\n",
    "\n",
    "# Call the function\n",
    "print(merge(a,b))"
   ]
  },
  {
   "cell_type": "markdown",
   "metadata": {},
   "source": [
    "### Example 2"
   ]
  },
  {
   "cell_type": "code",
   "execution_count": 12,
   "metadata": {},
   "outputs": [
    {
     "name": "stdout",
     "output_type": "stream",
     "text": [
      "Karolina\n"
     ]
    }
   ],
   "source": [
    "# Taken from: Comutational Thinking with Algorithms Module - Code runner MCQ\n",
    "# Defining a Merge sort function\n",
    "def merge(a,b):\n",
    "    if(len(b) == 0):\n",
    "        return a\n",
    "    if(len(a) == 1 and len(b == 1)):\n",
    "        return a + b\n",
    "    else:\n",
    "        return a[0] + b[0] + merge(a[1:],b[1:]) # It will link/merge the first and the second string together.\n",
    "\n",
    "# This is my two unsorted lists: a and b\n",
    "a = \"Krlna\"\n",
    "b = \"aoi\"        # The second string is always shorter! A new string has always the last part of\n",
    "                 # the firts string atthe end (its remainder)\n",
    "\n",
    "# Call the function. This function will create a new string, in this example my name. \n",
    "# The merge will link two strings a and b.\n",
    "print(merge(a,b))\n"
   ]
  },
  {
   "cell_type": "markdown",
   "metadata": {},
   "source": [
    "### Example 3"
   ]
  },
  {
   "cell_type": "code",
   "execution_count": 17,
   "metadata": {},
   "outputs": [
    {
     "name": "stdout",
     "output_type": "stream",
     "text": [
      "Enter size of the list:10\n",
      "Enter the element:\t16\n",
      "Enter the element:\t23\n",
      "Enter the element:\t\n",
      "Enter the element:\t32\n",
      "Enter the element:\t89\n",
      "Enter the element:\t09\n",
      "Enter the element:\t55\n",
      "Enter the element:\t69\n",
      "Enter the element:\t37\n",
      "Enter the element:\t91\n",
      "Sorted list: ['', '09', '16', '23', '32', '37', '55', '69', '89', '91']\n"
     ]
    }
   ],
   "source": [
    "# Taken from: https://www.youtube.com/watch?v=_trEkEX_-2Q on 30/04/2020\n",
    "# # Defining a Merge sort function\n",
    "def merge(list):\n",
    "    if len(list) > 1:\n",
    "        mid = len(list) // 2\n",
    "        left_list = list[:mid]\n",
    "        right_list = list[mid:]\n",
    "        \n",
    "        merge(left_list)\n",
    "        merge(right_list)\n",
    "        i = 0\n",
    "        j = 0\n",
    "        k = 0\n",
    "        \n",
    "        while i < len(left_list) and j < len(right_list):\n",
    "            if left_list[i] < right_list[j]:\n",
    "                list[k] = left_list[i]\n",
    "                i = i + 1\n",
    "                k = k + 1\n",
    "            else:\n",
    "                list[k] = right_list[j]\n",
    "                j = j + 1\n",
    "                k = k + 1\n",
    "        while i < len(left_list):\n",
    "            list[k] = left_list[i]\n",
    "            i = i + 1\n",
    "            k = k + 1\n",
    "        while j < len(right_list):\n",
    "            list[k] = right_list[j]\n",
    "            j = j + 1\n",
    "            k = k + 1\n",
    "\n",
    "# Create an empty list and size of it\n",
    "list=[]\n",
    "num = int(input(\"Enter size of the list:\"))\n",
    "for x in range(num):\n",
    "    elements = input(\"Enter the element:\\t\")\n",
    "    list.append(elements)\n",
    "# Call the function\n",
    "merge(list)\n",
    "print(\"Sorted list:\", list)\n",
    "            "
   ]
  },
  {
   "cell_type": "code",
   "execution_count": null,
   "metadata": {},
   "outputs": [],
   "source": []
  },
  {
   "cell_type": "code",
   "execution_count": null,
   "metadata": {},
   "outputs": [],
   "source": []
  },
  {
   "cell_type": "markdown",
   "metadata": {},
   "source": [
    "#### **Merge Sort**  -  as an efficient comparison-based sort"
   ]
  },
  {
   "cell_type": "code",
   "execution_count": null,
   "metadata": {},
   "outputs": [],
   "source": []
  },
  {
   "cell_type": "code",
   "execution_count": null,
   "metadata": {},
   "outputs": [],
   "source": []
  },
  {
   "cell_type": "code",
   "execution_count": null,
   "metadata": {},
   "outputs": [],
   "source": []
  },
  {
   "cell_type": "code",
   "execution_count": null,
   "metadata": {},
   "outputs": [],
   "source": []
  },
  {
   "cell_type": "code",
   "execution_count": null,
   "metadata": {},
   "outputs": [],
   "source": []
  },
  {
   "cell_type": "code",
   "execution_count": null,
   "metadata": {},
   "outputs": [],
   "source": []
  }
 ],
 "metadata": {
  "kernelspec": {
   "display_name": "Python 3",
   "language": "python",
   "name": "python3"
  },
  "language_info": {
   "codemirror_mode": {
    "name": "ipython",
    "version": 3
   },
   "file_extension": ".py",
   "mimetype": "text/x-python",
   "name": "python",
   "nbconvert_exporter": "python",
   "pygments_lexer": "ipython3",
   "version": "3.7.1"
  }
 },
 "nbformat": 4,
 "nbformat_minor": 2
}
