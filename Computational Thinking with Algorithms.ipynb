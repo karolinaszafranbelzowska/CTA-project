{
 "cells": [
  {
   "cell_type": "markdown",
   "metadata": {},
   "source": [
    "# Project 2020\n",
    "\n",
    "## Benchmarking Sorting Algorithms\n",
    "\n",
    "### **Karolina Szafran-Belzowska, G00376368**\n"
   ]
  },
  {
   "cell_type": "markdown",
   "metadata": {},
   "source": [
    "#### **Project specification**"
   ]
  },
  {
   "cell_type": "markdown",
   "metadata": {},
   "source": [
    "This project contains a Python application which will be used for benchmark five diffferent sorting algorithms. The project is \n",
    "divided into several parts: Introduction **...write sthg about**"
   ]
  },
  {
   "cell_type": "markdown",
   "metadata": {},
   "source": [
    "## Python Application"
   ]
  },
  {
   "cell_type": "code",
   "execution_count": null,
   "metadata": {},
   "outputs": [],
   "source": []
  },
  {
   "cell_type": "code",
   "execution_count": null,
   "metadata": {},
   "outputs": [],
   "source": []
  },
  {
   "cell_type": "code",
   "execution_count": null,
   "metadata": {},
   "outputs": [],
   "source": []
  },
  {
   "cell_type": "code",
   "execution_count": null,
   "metadata": {},
   "outputs": [],
   "source": []
  },
  {
   "cell_type": "code",
   "execution_count": null,
   "metadata": {},
   "outputs": [],
   "source": []
  },
  {
   "cell_type": "code",
   "execution_count": null,
   "metadata": {},
   "outputs": [],
   "source": []
  },
  {
   "cell_type": "markdown",
   "metadata": {},
   "source": [
    "#### **Benchmarking**"
   ]
  },
  {
   "cell_type": "markdown",
   "metadata": {},
   "source": [
    "The main idea of benchmarking is to figure out how fast the code executes and where the bottlenecks are. These actions lead to optimization. There are situations where you need your code to run faster because your business needs have changed, and you need to figure out what parts of your code are slowing it down.\n",
    "https://www.blog.pythonlibrary.org/2016/05/24/python-101-an-intro-to-benchmarking-your-code/"
   ]
  },
  {
   "cell_type": "markdown",
   "metadata": {},
   "source": [
    "#### **Sorting Algorithm**"
   ]
  },
  {
   "cell_type": "markdown",
   "metadata": {},
   "source": [
    "A Sorting Algorithm is used to rearrange a given array or list elements according to a comparison operator on the elements. The comparison operator is used to decide the new order of element in the respective data structure. \n",
    "Choosing the best sorting algorithm is as about knowing what you are sorting as it is about the relative performance of the algorithms.\n",
    "\n",
    "An _in-place_ sorting algorithm uses constant extra space for producing the output. It sorts the list only by modifying the order of the elements within the list. When all data that needs to be sorted cannot be placed in-memory at a time, the sorting is called _external sorting_. External Sorting is used for massive amount of data. When all data is placed in-memory, then sorting is called _internal sorting._\n",
    "\n",
    "_Stability_ is mainly important when we have key value pairs with duplicate keys possible (like people names as keys and their details as values). And we wish to sort these objects by keys. So, stability means that equivalent elements retain their relative positions, after sorting.\n",
    "\n",
    "https://en.wikipedia.org/wiki/Sorting_algorithm#Stability\n",
    "\n",
    "A **comparison sort** is a type of sorting algorithm that only reads the list elements through a single abstract comparison operation (often a \"less than or equal to\" operator or a three-way comparison) that determines which of two elements should occur first in the final sorted list. https://en.wikipedia.org/wiki/Comparison_sort\n",
    "\n",
    "Some of comparison sorts:\n",
    "```\n",
    "Bubble Sort\n",
    "Selection Sort\n",
    "Insertion Sort\n",
    "Merge Sort\n",
    "Quick Sort\n",
    "Heap Sort\n",
    "Shell Sort\n",
    "Block Sort\n",
    "```\n",
    "A **non-comparison sort** algorithm uses the internal character of the values to be sorted. It can only be applied to some particular cases, and requires particular values. And the best complexity is probably better depending on cases, such as O(n).\n",
    "https://stackoverflow.com/questions/25788781/definition-of-non-comparison-sort\n",
    "\n",
    "Some of non-comparison sorts:\n",
    "```\n",
    "Counting Sort\n",
    "Bucket Sort\n",
    "Postman Sort\n",
    "Flash Sort\n",
    "Burst Sort\n",
    "```\n",
    "\n",
    "First of many differences between these two sorting algorithms is _speed_. Non-comparison sorting is usually faster than sorting because of not doing the comparison. The limit of speed for comparison-based sorting algorithm is O(NlogN) while for non-comparison based algorithms its O(n) i.e. linear time.\n",
    "Second comparison based sorting algorithm e.g. QuickSort, Merge Sort. or Heap Sort requires a Comparator to sort elements e.g. while sorting an array of String, but non-comparison based sorting algorithms doesn't require any comparator.\n",
    "Non-Comparison based sorting algorithm can use to sort any object provided. A non-comparison based sorting algorithm can not be used to sort anything other than integers, that's why they are also known as integer sorting.\n",
    "The best case for memory complexity with the comparison based sorting is O(1) because it's possible to sort an array of numbers in place. On the other hand, memory complexity for non-comparison based sorting algorithm is always O(n).\n",
    "The lower bound of CPU complexity or how much time it take for the algorithm to sort n numbers in the worst case is O(NlogN), but in the case of non-comparison based sorting the CPU complexity lower bound is O(n).\n",
    "\n"
   ]
  },
  {
   "cell_type": "markdown",
   "metadata": {},
   "source": [
    "#### **Bubble Sort** as a simple comparison-based sort"
   ]
  },
  {
   "cell_type": "markdown",
   "metadata": {},
   "source": [
    "[**Bubble sort**](https://en.wikipedia.org/wiki/Bubble_sort), one of the simplest algorithms for sorting an array, consists of repeatedly exchanging pairs of adjacent array elements that are out of order until no such pair remains. \n",
    "The serial software implementation of bubble sort has a time complexity that is: \n",
    "> **Worst and Average Case Time Complexity:** O(n*2). Worst case occurs when array is reverse sorted.\n",
    "\n",
    "> **Best Case Time Complexity:** O(n). Best case occurs when array is already sorted.\n",
    "\n",
    "This type of sort is a slow-and-predictable sorting algorithm. Is often used to introduce the concept of a sorting algorithm."
   ]
  },
  {
   "cell_type": "markdown",
   "metadata": {},
   "source": [
    "https://groups.csail.mit.edu/cag/raw/benchmark/suites/bubblesort/README.html\n",
    "\n",
    "http://rperl.org/performance_benchmarks_bubble.html\n",
    "\n",
    "https://www.youtube.com/watch?v=AthG28-_RuM&t=445s\n",
    "\n",
    "https://www.geeksforgeeks.org/time-complexities-of-all-sorting-algorithms/\n",
    "\n",
    "https://www.tutorialspoint.com/python_data_structure/python_sorting_algorithms.htm"
   ]
  },
  {
   "cell_type": "markdown",
   "metadata": {},
   "source": [
    "## An implementation of Bubble Sort (a simple comparison-based sort)"
   ]
  },
  {
   "cell_type": "markdown",
   "metadata": {},
   "source": [
    "### Example 1:"
   ]
  },
  {
   "cell_type": "code",
   "execution_count": 21,
   "metadata": {},
   "outputs": [
    {
     "name": "stdout",
     "output_type": "stream",
     "text": [
      "Enter size of the list: 6\n",
      "Enter the element:\t64\n",
      "Enter the element:\t33\n",
      "Enter the element:\t28\n",
      "Enter the element:\t69\n",
      "Enter the element:\t10\n",
      "Enter the element:\t97\n",
      "['10', '28', '33', '64', '69', '97']\n"
     ]
    }
   ],
   "source": [
    "# Defining bubble sort function\n",
    "# Taken from: https://www.youtube.com/watch?v=AthG28-_RuM&t=445s on 01/05/2020\n",
    "def bubbleSort(alist): # an argument called sort_list\n",
    "    \n",
    "    for i in range(len(alist)): \n",
    "        for j in range (len(alist)-1):\n",
    "            \n",
    "            # compare the item on the left with the item on the right and if it's larger then swap places\n",
    "            if alist[j] > alist[j+1]:\n",
    "                alist[j], alist[j+1] = alist[j+1], alist[j]\n",
    "    print(alist)\n",
    "\n",
    "\n",
    "# Create an empty array and size of the list\n",
    "lst=[]\n",
    "size = int(input(\"Enter size of the list: \"))\n",
    "\n",
    "# Enter n elements of the list\n",
    "for i in range(size):\n",
    "    elements = input(\"Enter the element:\\t\")\n",
    "    lst.append(elements)\n",
    "\n",
    "# print a Bubble sorted list\n",
    "bubbleSort(lst)\n",
    " "
   ]
  },
  {
   "cell_type": "markdown",
   "metadata": {},
   "source": [
    "### Example 2"
   ]
  },
  {
   "cell_type": "code",
   "execution_count": 20,
   "metadata": {},
   "outputs": [
    {
     "name": "stdout",
     "output_type": "stream",
     "text": [
      "Sorted list is:\n",
      "[6, 12, 29, 33, 46.59, 65, 72, 84, 98, 102, 587]\n"
     ]
    }
   ],
   "source": [
    "# Defining bubble sort function\n",
    "# Taken from: https://www.tutorialspoint.com/python_data_structure/python_sorting_algorithms.htm on 04/05/2020\n",
    "def bubbleSort(alist): \n",
    "\n",
    "    for i in range(len(alist)-1,0,-1): # outer for loop to swap the elements in correct order\n",
    "        for j in range(i):\n",
    "            \n",
    "            # compare the item on the left with the item on the right and if it's larger then swap places\n",
    "            if alist[j] > alist[j+1]: \n",
    "                temp = alist[j]\n",
    "                alist[j] = alist[j+1]\n",
    "                alist[j+1] = temp\n",
    "\n",
    "\n",
    "# Create a list to use a Bubble sort\n",
    "list = [98,65,29,12,6,102,587,33,46.59,72,84]\n",
    "\n",
    "# Call the function\n",
    "bubbleSort(list)\n",
    "\n",
    "# print sorted list \n",
    "print(\"Sorted list is:\")\n",
    "print(list)"
   ]
  },
  {
   "cell_type": "markdown",
   "metadata": {},
   "source": [
    "### Example 3"
   ]
  },
  {
   "cell_type": "code",
   "execution_count": 19,
   "metadata": {},
   "outputs": [
    {
     "name": "stdout",
     "output_type": "stream",
     "text": [
      "Sorted list is:\n",
      "['a', 'c', 'd', 'e', 'f', 'g', 'k', 'w', 'z']\n"
     ]
    }
   ],
   "source": [
    "# Defining bubble sort function\n",
    "# Taken from: \n",
    "def bubbleSort(alist): # an argument called alist\n",
    "    \n",
    "    for i in range(0,len(alist)-1): # outer for loop to swap the elements in correct order\n",
    "        for j in range(0, len(alist)-1 -i): # inner for loop\n",
    "            \n",
    "            # compare the item on the left with the item on the right and if it's larger then swap places\n",
    "            if alist[j] > alist[j+1]:\n",
    "                alist[j], alist[j+1] = alist[j+1], alist[j]\n",
    "    return alist\n",
    "\n",
    "# Create a list to use a Babble sort\n",
    "myList = [\"z\", \"g\", \"a\", \"k\", \"f\", \"c\", \"e\", \"d\", \"w\"]\n",
    "\n",
    "# Call and print the function\n",
    "print(\"Sorted list is:\")\n",
    "print(bubbleSort(myList))"
   ]
  },
  {
   "cell_type": "markdown",
   "metadata": {},
   "source": [
    "#### **Insertion Sort**  -  simple comparison-based sort (my choice)"
   ]
  },
  {
   "cell_type": "markdown",
   "metadata": {},
   "source": [
    "[**Insertion sort**](https://en.wikipedia.org/wiki/Insertion_sort) is a simple sorting algorithm that works the way we sort playing cards in our hands. Insertion sort takes maximum time to sort if elements are sorted in reverse order. And it takes minimum time when elements are already sorted. Insertion sort is used when number of elements is small. It can also be useful when input array is almost sorted, only few elements are misplaced in complete big array.\n",
    "\n",
    "It involves finding the right place for a given element in a list.  At the beginning the function compares the first two elements and sorts them by comparing them. Then the third element needs to find its proper position among the previous two sorted elements. This way more and more elements are added to the already sorted list by putting them in their proper position.\n",
    "\n",
    "Time Complexity: O(n*2)\n",
    "\n",
    "https://www.youtube.com/watch?v=AgtzMtrzhzs\n",
    "\n",
    "https://www.geeksforgeeks.org/insertion-sort/\n",
    "\n",
    "https://www.tutorialspoint.com/python_data_structure/python_sorting_algorithms.htm"
   ]
  },
  {
   "cell_type": "markdown",
   "metadata": {},
   "source": [
    "## An implementation of Inserion Sort ( a simple comparison-based sort - my choice)"
   ]
  },
  {
   "cell_type": "markdown",
   "metadata": {},
   "source": [
    "### Example 1"
   ]
  },
  {
   "cell_type": "code",
   "execution_count": 18,
   "metadata": {},
   "outputs": [
    {
     "name": "stdout",
     "output_type": "stream",
     "text": [
      "Sorted list is:\n",
      "[5, 12, 15, 17, 21, 25, 29, 30, 31, 33, 76, 82, 105]\n"
     ]
    }
   ],
   "source": [
    "# Defining insertion sort function\n",
    "# Taken from: https://runestone.academy/runestone/books/published/pythonds/SortSearch/TheInsertionSort.html on 02/05/2020\n",
    "def insertionSort(alist):\n",
    "    for i in range (1, len(alist)):\n",
    "        currentValue = alist[i] # create kind of temporary variables\n",
    "        position = i  # position which I am checking is equal to i index of the character\n",
    "        \n",
    "        while (position > 0) and (alist[position - 1] > currentValue):\n",
    "                             # while loop will check all numbers until they get\n",
    "                             # the right place and every time I'll do this\n",
    "                             # I want to reduce position by 1.\n",
    "            alist[position] = alist [position - 1]                 \n",
    "            position -= 1                                                  \n",
    "            \n",
    "            alist[position] = currentValue\n",
    "\n",
    "# Create a list to use an Insertion sort \n",
    "alist = [12,15,25,31,21,5,82,76,30,29,33,17,105]\n",
    "\n",
    "# Call the function\n",
    "insertionSort(alist)\n",
    "\n",
    "# print sorted list\n",
    "print(\"Sorted list is:\")\n",
    "print(alist)\n"
   ]
  },
  {
   "cell_type": "markdown",
   "metadata": {},
   "source": [
    "### Example 2"
   ]
  },
  {
   "cell_type": "code",
   "execution_count": 2,
   "metadata": {},
   "outputs": [
    {
     "name": "stdout",
     "output_type": "stream",
     "text": [
      "Sorted list is:\n",
      "[1, 6, 15, 15, 26, 29, 33, 46, 51, 68, 78, 82, 89, 94, 256, 684]\n"
     ]
    }
   ],
   "source": [
    "# Defining insertion sort function\n",
    "# Taken from: https://www.tutorialspoint.com/python_data_structure/python_sorting_algorithms.htm on 04/05/2020\n",
    "def insertionSort(alist):\n",
    "    for i in range(1, len(alist)):\n",
    "        j = i-1\n",
    "        nxt_element = alist[i]\n",
    "\n",
    "        # Compare the current element with the next one\n",
    "        while (alist[j] > nxt_element) and (j >= 0):\n",
    "            alist[j+1] = alist[j]\n",
    "            j=j-1\n",
    "        alist[j+1] = nxt_element\n",
    "\n",
    "# Create a list to use an Insertion sort\n",
    "list = [1,15,68,256,94,78,33,46,51,684,82,26,89,15,6,29]\n",
    "\n",
    "# Call the function\n",
    "insertionSort(list)\n",
    "\n",
    "# print sorted list\n",
    "print(\"Sorted list is:\")\n",
    "print(list)"
   ]
  },
  {
   "cell_type": "markdown",
   "metadata": {},
   "source": [
    "## An implementation of Selection Sort ( a simple comparison-based sort - my choice)"
   ]
  },
  {
   "cell_type": "markdown",
   "metadata": {},
   "source": [
    "### Example 1"
   ]
  },
  {
   "cell_type": "code",
   "execution_count": 14,
   "metadata": {},
   "outputs": [
    {
     "name": "stdout",
     "output_type": "stream",
     "text": [
      "Sorted list is:\n",
      "[17, 20, 26, 31, 41, 44, 54, 55, 77, 93, 159, 364, 458, 789, 9874]\n"
     ]
    }
   ],
   "source": [
    "# Defining a Selection Sort\n",
    "# Taken from: https://runestone.academy/runestone/books/published/pythonds/SortSearch/TheSelectionSort.html on 03/05/2020\n",
    "def selectionSort(alist):\n",
    "    # for loop will repeat until all elements are executed. It repeats from the last element to the first.\n",
    "    for fillslot in range(len(alist)-1,0,-1):\n",
    "        # maximum position is set as 0\n",
    "        positionOfMax = 0\n",
    "        # the inner for loop is used to find the maximum value in the unsorted subarray \n",
    "        for location in range(1,fillslot+1):\n",
    "            # Compare the current element with the next one\n",
    "            if alist[location] > alist[positionOfMax]:\n",
    "                positionOfMax= location\n",
    "            \n",
    "            # and swap the compared element with the maximum value \n",
    "            temp = alist[fillslot]\n",
    "            alist[fillslot] = alist[positionOfMax]\n",
    "            alist[positionOfMax] = temp\n",
    "        \n",
    "\n",
    "# Create a list to use a Selection sort\n",
    "alist = [54,26,93,17,77,31,44,55,20,159,458,41,789,364,9874]\n",
    "\n",
    "# call the function\n",
    "selectionSort(alist)\n",
    "\n",
    "#print sorted list\n",
    "print(\"Sorted list is:\")\n",
    "print(alist)"
   ]
  },
  {
   "cell_type": "markdown",
   "metadata": {},
   "source": [
    "### Example 2"
   ]
  },
  {
   "cell_type": "code",
   "execution_count": 6,
   "metadata": {},
   "outputs": [
    {
     "name": "stdout",
     "output_type": "stream",
     "text": [
      "Sorted list is:\n",
      "[3, 5, 10, 17, 23, 28, 33, 64, 105]\n"
     ]
    }
   ],
   "source": [
    "# Defining a Selection Sort\n",
    "# Taken from: https://www.youtube.com/watch?v=JxTghISBmI8 on 03/05/2020\n",
    "def selectionSort(alist):\n",
    "    # sort index is set as 0\n",
    "    sort_idx = 0\n",
    "    # While loop will execute all elements in alist\n",
    "    while sort_idx < len(alist):\n",
    "        min_idx = alist[sort_idx:].index(min(alist[sort_idx:])) + sort_idx\n",
    "        # swap the elements \n",
    "        alist[sort_idx], alist[min_idx] = alist[min_idx], alist[sort_idx]\n",
    "        sort_idx += 1\n",
    "    return alist\n",
    "\n",
    "\n",
    "# Create a list to use a Selection sort\n",
    "alist = [5,3,64,28,10,23,33,17,105]\n",
    "\n",
    "#call the function\n",
    "selectionSort(alist)\n",
    "\n",
    "# print sorted list\n",
    "print(\"Sorted list is:\")\n",
    "print(alist)\n",
    "    "
   ]
  },
  {
   "cell_type": "markdown",
   "metadata": {},
   "source": [
    "### Example 3"
   ]
  },
  {
   "cell_type": "code",
   "execution_count": 9,
   "metadata": {},
   "outputs": [
    {
     "name": "stdout",
     "output_type": "stream",
     "text": [
      "Sorted list is:\n",
      "[1, 21, 2.52, 33, 31, 95]\n"
     ]
    }
   ],
   "source": [
    "# Taken from: https://gist.github.com/piotechno/8665247 on 04/05/2020\n",
    "# Defining a Selection Sort\n",
    "def selectionSort(alist):\n",
    "    # For loop will repeat until all elements in alist are used.\n",
    "    for j in range(len(alist)-1):\n",
    "        # I assume that j is the smallest element in alist\n",
    "        minimum = j \n",
    "        for i in range(j+1, len(alist)): # the inner for loop will compare j index with unsorted elements \n",
    "            if(alist[i]<alist[minimum]):\n",
    "                # the new minimum index is i now\n",
    "                minimum = i \n",
    "                # swap the elements that are assumed minimum and actual minimum which are found in unsorted list\n",
    "                alist[j],alist[minimum] = alist[minimum],alist[j]\n",
    "\n",
    "\n",
    "# Create a list to use a Selection sort               \n",
    "nlist = [2.52,95,31,33,1,21]\n",
    "\n",
    "# call the function\n",
    "selectionSort(nlist)\n",
    "\n",
    "# print sorted list\n",
    "print(\"Sorted list is:\")\n",
    "print(nlist)"
   ]
  },
  {
   "cell_type": "markdown",
   "metadata": {},
   "source": [
    "## An implementation of Merge Sort (an efficient comparison based sort)"
   ]
  },
  {
   "cell_type": "markdown",
   "metadata": {},
   "source": [
    "### Example 1"
   ]
  },
  {
   "cell_type": "code",
   "execution_count": 17,
   "metadata": {},
   "outputs": [
    {
     "name": "stdout",
     "output_type": "stream",
     "text": [
      "Sorted list is:\n",
      "[11, 12, 16, 20, 25, 26, 33, 45, 69, 70]\n"
     ]
    }
   ],
   "source": [
    "# Defining a Merge sort function\n",
    "# Taken from: https://www.youtube.com/watch?v=3aTfQvs-_hA on 30/04/2020\n",
    "def mergeSort(a,b):\n",
    "    c=[]  # That will be final and sorted array\n",
    "    a_idx,b_idx = 0,0\n",
    "    while a_idx < len(a) and b_idx < len(b):      \n",
    "               # while loop will repeat until all elements are used. On each repeat\n",
    "               # all elements are compared and appended whichever is smaller onto a new merged arrays.\n",
    "        if a[a_idx] < b[b_idx]:                    \n",
    "            c.append(a[a_idx])                     \n",
    "            a_idx += 1\n",
    "        else:\n",
    "            c.append(b[b_idx])\n",
    "            b_idx += 1\n",
    "    if a_idx == len(a): c.extend(b[b_idx:])        \n",
    "    else:               c.extend(a[a_idx:])        \n",
    "    return c\n",
    "              # At the end of the while loop I extended the merged list with two input arrays\n",
    "\n",
    "# If I want to use a Merge sort function I need to create two lists: a and b\n",
    "a= [12,16,20,25,69]\n",
    "b= [11,26,33,45,70]\n",
    "\n",
    "# Call and print the function\n",
    "print(\"Sorted list is:\")\n",
    "print(mergeSort(a,b))"
   ]
  },
  {
   "cell_type": "markdown",
   "metadata": {},
   "source": [
    "### Example 2"
   ]
  },
  {
   "cell_type": "code",
   "execution_count": 16,
   "metadata": {},
   "outputs": [
    {
     "name": "stdout",
     "output_type": "stream",
     "text": [
      "Karolina\n"
     ]
    }
   ],
   "source": [
    "# Defining a Merge sort function\n",
    "# Taken from: Comutational Thinking with Algorithms Module - Code runner MCQ\n",
    "def mergeSort(a,b):\n",
    "    if(len(b) == 0):\n",
    "        return a\n",
    "    if(len(a) == 1 and len(b == 1)):\n",
    "        return a + b\n",
    "    else:\n",
    "        return a[0] + b[0] + mergeSort(a[1:],b[1:]) # It will link/merge the first and the second string together.\n",
    "\n",
    "# This is my two unsorted lists: a and b\n",
    "a = \"Krlna\"\n",
    "b = \"aoi\"        # The second string is always shorter! A new string has always the last part of\n",
    "                 # the firts string atthe end (its remainder)\n",
    "\n",
    "# Call the function. This function will create a new string, in this example my name. \n",
    "# The merge will link two strings a and b.\n",
    "print(mergeSort(a,b))\n"
   ]
  },
  {
   "cell_type": "markdown",
   "metadata": {},
   "source": [
    "### Example 3"
   ]
  },
  {
   "cell_type": "code",
   "execution_count": 22,
   "metadata": {},
   "outputs": [
    {
     "name": "stdout",
     "output_type": "stream",
     "text": [
      "Enter size of the list:6\n",
      "Enter the element:\t64\n",
      "Enter the element:\t33\n",
      "Enter the element:\t25\n",
      "Enter the element:\t97\n",
      "Enter the element:\t10\n",
      "Enter the element:\t28\n",
      "Sorted list: ['10', '25', '28', '33', '64', '97']\n"
     ]
    }
   ],
   "source": [
    "# Defining a Merge sort function\n",
    "# Taken from: https://www.youtube.com/watch?v=_trEkEX_-2Q on 30/04/2020\n",
    "def mergeSort(alist):\n",
    "    if len(alist) > 1:\n",
    "        mid = len(alist) // 2\n",
    "        # Split the list in half and call merge sort\n",
    "        left_list = alist[:mid]\n",
    "        right_list = alist[mid:]\n",
    "        \n",
    "        # merge left and right lists\n",
    "        merge(left_list)\n",
    "        merge(right_list)\n",
    "        # indexes i,j,k set as 0  (subarrays)\n",
    "        i = 0\n",
    "        j = 0\n",
    "        k = 0\n",
    "        \n",
    "        # while loop will iterate until it use up all the elements. On each iteration I compare the elements\n",
    "        # been at the top of an array.\n",
    "        while i < len(left_list) and j < len(right_list):\n",
    "            if left_list[i] < right_list[j]:\n",
    "                alist[k] = left_list[i]\n",
    "                i = i + 1\n",
    "                k = k + 1\n",
    "            else:\n",
    "                alist[k] = right_list[j]\n",
    "                j = j + 1\n",
    "                k = k + 1\n",
    "        while i < len(left_list):\n",
    "            alist[k] = left_list[i]\n",
    "            i = i + 1\n",
    "            k = k + 1\n",
    "        while j < len(right_list):\n",
    "            alist[k] = right_list[j]\n",
    "            j = j + 1\n",
    "            k = k + 1\n",
    "\n",
    "# Create an empty list and size of it\n",
    "alist=[]\n",
    "num = int(input(\"Enter size of the list:\"))\n",
    "for x in range(num):\n",
    "    elements = input(\"Enter the element:\\t\")\n",
    "    # append elements which I entered\n",
    "    alist.append(elements)\n",
    "# Call and print the function\n",
    "mergeSort(alist)\n",
    "print(\"Sorted list:\", alist)\n",
    "            "
   ]
  },
  {
   "cell_type": "markdown",
   "metadata": {},
   "source": [
    "## An implementation of Counting Sort ( a non-comparison sort)"
   ]
  },
  {
   "cell_type": "markdown",
   "metadata": {},
   "source": [
    "### Example 1"
   ]
  },
  {
   "cell_type": "code",
   "execution_count": 12,
   "metadata": {},
   "outputs": [
    {
     "name": "stdout",
     "output_type": "stream",
     "text": [
      "[1, 4, 9, 9, 13, 15, 17, 25, 25, 27, 45, 66, 97, 110, 802, 0]\n"
     ]
    }
   ],
   "source": [
    "# Defining a Counting sort function\n",
    "# Taken from: https://gist.github.com/haandol/a5df913cfd278820e43e on 04/05/2020\n",
    "def countingSort(alist):\n",
    "    # create counts array \n",
    "    counts = [0 for i in range(max(alist)+1)]\n",
    "\n",
    "    for x in alist:\n",
    "        counts[x] += 1 \n",
    "\n",
    "    for index in range(1, len(counts)):\n",
    "        counts[index] = counts[index-1] + counts[index]\n",
    "\n",
    "    nlist = [0 for loop in range(len(alist)+1)]\n",
    "    for x in alist:\n",
    "        index = counts[x] - 1\n",
    "        nlist[index] = x\n",
    "        counts[x] -= 1 \n",
    "\n",
    "    return nlist\n",
    "    \n",
    "# Create alist to call a counting sort\n",
    "alist = [27, 4, 15, 9, 110, 13, 25, 1, 17, 802, 66, 25, 45, 97, 9]\n",
    "\n",
    "# Call and print the function\n",
    "print(countingSort(alist))"
   ]
  },
  {
   "cell_type": "markdown",
   "metadata": {},
   "source": [
    "### Example 2"
   ]
  },
  {
   "cell_type": "code",
   "execution_count": 36,
   "metadata": {},
   "outputs": [
    {
     "name": "stdout",
     "output_type": "stream",
     "text": [
      "Sorted Array is:\n",
      "[6, 15, 18, 25, 33, 36, 49, 75, 75, 93, 156, 159, 258, 763, 8743]\n"
     ]
    }
   ],
   "source": [
    "# Defining a Counting sort function\n",
    "# Taken from: https://github.com/Thalmann/counting_sort/blob/master/counting_sort.py on 04/05/2020\n",
    "def countingSort(alist):\n",
    "    \n",
    "    k = max(alist) + 1\n",
    "    n = len(alist)\n",
    "    \n",
    "    # create a count array to count the number of instances \n",
    "    count = [0] * k\n",
    "\n",
    "    # the for loop will execute all elements in alist and will count occurences of each number in the array\n",
    "    for x in alist: \n",
    "        count[x] += 1\n",
    "\n",
    "    total = 0\n",
    "    for x in range(k):\n",
    "        old = count[x]\n",
    "        count[x] = total\n",
    "        total += old\n",
    "    \n",
    "    # create nlist\n",
    "    nlist = [0] * n\n",
    "    for x in alist:\n",
    "        nlist[count[x]] = x\n",
    "        count[x] += 1\n",
    "\n",
    "    return nlist\n",
    "\n",
    "\n",
    "\n",
    "# Create alist to use counting sort\n",
    "alist = [15,6,159,36,25,93,33,18,49,75,258,763,75,156,8743]\n",
    "\n",
    "# call and print the function\n",
    "print(\"Sorted Array is:\") \n",
    "print(countingSort(alist))"
   ]
  },
  {
   "cell_type": "markdown",
   "metadata": {},
   "source": [
    "## Benchmarking the sort algorithms"
   ]
  },
  {
   "cell_type": "code",
   "execution_count": 3,
   "metadata": {},
   "outputs": [
    {
     "name": "stdout",
     "output_type": "stream",
     "text": [
      "Benchmarking in progress, Please wait for results, will take approximately 30 minutes\n",
      "Average time Bubble [0.0, 1.8000602722167969, 6.700372695922852]\n",
      "Average time Merge [0.09999275207519531, 0.6000995635986328, 1.1000633239746094]\n",
      "Average time Counting[0.10001659393310547, 0.19998550415039062, 0.10001659393310547]\n",
      "Average time Insertion [0.0, 1.000046730041504, 3.9001941680908203]\n",
      "Average time Selection [0.0, 1.6001224517822266, 7.4004411697387695]\n"
     ]
    }
   ],
   "source": [
    "import time   # will be used to time the sorting algorithms\n",
    "import random #will be used to generate random arrays of integers\n",
    "import pandas as pd # will be used to output the results in a dataframe\n",
    "import numpy as np # will use numpy.mean to return the average of an array of ten run times\n",
    "import matplotlib.pyplot as plt #will be used to generate a plot of the data\n",
    "\n",
    "# create a function to generate random array of integers\n",
    "# sourced from sample given in the project specification\n",
    "# Python random module: https://docs.python.org/3/library/random.html\n",
    "\n",
    "def random_array(n):\n",
    "    array = []\n",
    "    for i in range(0, n, 1): # low, high, size \n",
    "        array.append(random.randint(0, 100))  # randomly generated arrays will contain integers in range 100\n",
    "    return array\n",
    "   \n",
    "print(\"Benchmarking in progress, Please wait for results, will take approximately 30 minutes\")    \n",
    "# I will create an array of input sizes to be called in the random array function    \n",
    "#testing_arrays= [100, 250, 500, 750, 1000] # shorter list for testing\n",
    "testing_arrays = [10,100, 250]\n",
    "\n",
    "average_bubble = [] #Create a list to hold the average time of ten runs\n",
    "average_merge = [] #I will calculate the average of the ten run times for each input size\n",
    "average_counting = [] #I will append the average for each input size to this list\n",
    "average_insertion = [] #Python append to a list: https://www.w3schools.com/python/ref_list_append.asp\n",
    "average_selection = []\n",
    "    \n",
    "# for loop will loop through input size array & each input size will be used as input to the random array function\n",
    "for array in testing_arrays:\n",
    "    benchmark_array = random_array(array) \n",
    "    # I will generate just one array for each input size and pass a copy of the array to the sorting algorithms\n",
    "    # https://stackoverflow.com/questions/2612802/how-to-clone-or-copy-a-list\n",
    "    # this will be necessary to avoid passing an already sorted array to an algorithm on runs 2 through 10\n",
    "        \n",
    "    bubble_time = []  #create a list to hold running times for ten runs of each algorithm\n",
    "    merge_time = [] # time for each run will be appended to this list\n",
    "    counting_time = [] #I will then calculate the average time of the ten runs using numpy.mean\n",
    "    insertion_time = []\n",
    "    selection_time = []\n",
    "    \n",
    " # for loop to loop through each input size ten times for the purpose of timing the algorithm ten times\n",
    "    for runs in range (10):        \n",
    "        #the first sorting algorithm will be timed using the Python time module \n",
    "        start_time = time.time()  #current time in seconds \n",
    "        bubbleSort(list(benchmark_array)) #copied array passed into Bubble Sort algorithm\n",
    "        finish_time = time.time()  #current time in seconds \n",
    "        time_elapsed = finish_time - start_time #time elapsed will be the difference between the start & finish times\n",
    "        #print(time_elapsed) testing purposes, comment out\n",
    "        bubble_time.append(time_elapsed)  #append the time to the container set up to hold the run times\n",
    "        \n",
    "        #repeat same procedure for the remaining 4 sorting algorithms:\n",
    "        \n",
    "        #Merge Sort time\n",
    "        start_time = time.time()\n",
    "        mergeSort(list(benchmark_array))\n",
    "        finish_time = time.time()\n",
    "        time_elapsed = finish_time - start_time\n",
    "        #print(time_elapsed)\n",
    "        merge_time.append(time_elapsed)\n",
    "            \n",
    "        #Counting sort time\n",
    "        start_time = time.time()\n",
    "        countingSort(list(benchmark_array))\n",
    "        finish_time = time.time()\n",
    "        time_elapsed = finish_time - start_time\n",
    "        #print(time_elapsed)\n",
    "        counting_time.append(time_elapsed)\n",
    "            \n",
    "        #Insertion sort time\n",
    "        start_time = time.time()\n",
    "        insertionSort(list(benchmark_array))\n",
    "        finish_time = time.time()\n",
    "        time_elapsed = finish_time - start_time\n",
    "        #print(time_elapsed)\n",
    "        insertion_time.append(time_elapsed)\n",
    "            \n",
    "        #Selection sort time\n",
    "        start_time = time.time()\n",
    "        selectionSort(list(benchmark_array))\n",
    "        finish_time = time.time()\n",
    "        time_elapsed = finish_time - start_time\n",
    "        #print(time_elapsed)\n",
    "        selection_time.append(time_elapsed)\n",
    "    \n",
    "    #print for testing purposes, comment out \n",
    "    #print(bubble_time)\n",
    "    #print(merge_time)\n",
    "    #print(counting_time)\n",
    "    #print(insertion_time)\n",
    "    #print(selection_time)\n",
    "    \n",
    "    # I will use numpy.mean to return the average time of the list holding the 10 run times for eacj input size\n",
    "    # numpy.mean: https://docs.scipy.org/doc/numpy-1.13.0/reference/generated/numpy.mean.html\n",
    "    #mutiply by 1000 to convert seconds to milliseconds \n",
    "    average_time_bubble_sort = np.mean(bubble_time)*1000\n",
    "    average_bubble.append(average_time_bubble_sort)  #append the average time for each input size to the average time list\n",
    "    #print(f\"Average time for Bubble Sort on Input Size {array} : {average_time_bubble_sort}\") \n",
    "    # print for testing purposes, comment out later\n",
    "    \n",
    "    average_time_merge_sort = np.mean(merge_time)*1000\n",
    "    average_merge.append(average_time_merge_sort)\n",
    "    #print(f\"Average time for Merge Sort on Input Size {array} : {average_time_merge_sort}\")\n",
    "        \n",
    "    average_time_counting_sort = np.mean(counting_time)*1000\n",
    "    average_counting.append(average_time_counting_sort)\n",
    "    #print(f\"Average time for Counting Sort on Input Size {array} : {average_time_counting_sort}\")\n",
    "        \n",
    "    average_time_insertion_sort = np.mean(insertion_time)*1000\n",
    "    average_insertion.append(average_time_insertion_sort)\n",
    "    #print(f\"Average time for Insertion Sort on Input Size {array} : {average_time_insertion_sort}\")\n",
    "        \n",
    "    average_time_selection_sort = np.mean(selection_time)*1000\n",
    "    average_selection.append(average_time_selection_sort)\n",
    "    #print(f\"Average time for Selection Sort on Input Size {array} : {average_time_selection_sort}\")\n",
    "        \n",
    "#print out the array containing the average run for all input sizes, cross check against pandas dataframe for testing   \n",
    "print(f\"Average time Bubble {average_bubble}\")\n",
    "print(f\"Average time Merge {average_merge}\")\n",
    "print(f\"Average time Counting{average_counting}\")\n",
    "print(f\"Average time Insertion {average_insertion}\")\n",
    "print(f\"Average time Selection {average_selection}\")\n",
    "\n",
    "#Next step to create pandas dataframe\n"
   ]
  },
  {
   "cell_type": "code",
   "execution_count": null,
   "metadata": {},
   "outputs": [],
   "source": [
    "\n",
    "\n",
    "def create_array(length=10, maxint=50):\n",
    "    new_arr = [randint(0,maxint) for _ in range(length)]\n",
    "    return new_arr\n"
   ]
  },
  {
   "cell_type": "code",
   "execution_count": 27,
   "metadata": {},
   "outputs": [
    {
     "name": "stdout",
     "output_type": "stream",
     "text": [
      "_______________________________________________________________________________________________\n",
      "                         \n",
      "Unsorted list is:\n",
      "[28, 23, 4, 41, 25, 47, 17, 32, 37, 3]\n",
      "Bubble sorted list is:\n",
      "[3, 4, 17, 23, 25, 28, 32, 37, 41, 47]\n",
      "                         \n",
      "Unsorted list is:\n",
      "[23, 1, 14, 43, 26, 31, 21, 30, 2, 50]\n",
      "Insertion Sorted list is:\n",
      "[1, 2, 14, 21, 23, 26, 30, 31, 43, 50]\n",
      "                         \n",
      "Unsorted list is:\n",
      "[18, 5, 8, 25, 35, 23, 28, 18, 49, 8]\n",
      "Selection Sorted list is:\n",
      "[5, 8, 8, 18, 18, 23, 25, 28, 35, 49]\n",
      "                         \n",
      "Unsorted list is:\n",
      "[38, 9, 27, 14, 4, 30, 26, 10, 17, 9]\n",
      "Merge Sorted list is:\n",
      "[4, 9, 9, 10, 14, 17, 26, 27, 30, 38]\n",
      "                         \n",
      "Unsorted list is:\n",
      "[49, 27, 43, 37, 47, 45, 10, 34, 19, 23]\n",
      "Counting Sorted list is:\n",
      "[10, 19, 23, 27, 34, 37, 43, 45, 47, 49]\n",
      "                         \n",
      " Are all algorithms sorted?? True or False: \n",
      "True\n",
      "                         \n",
      "________________________________________________________________________________________________________\n",
      "size \tBubble Sort\tInsertion Sort\tSelection Sort\tMerge Sort\tCounting Sort\n",
      "______________________________________________________________________________________________\n",
      "100\t0.00100 \t0.00000 \t0.00200 \t0.00000 \t0.00100\n",
      "250\t0.01100 \t0.00000 \t0.00700 \t0.00100 \t0.00000\n",
      "500\t0.04300 \t0.00000 \t0.04900 \t0.00400 \t0.00100\n",
      "750\t0.11601 \t0.00100 \t0.07700 \t0.00300 \t0.00000\n",
      "1000\t0.18801 \t0.00000 \t0.11601 \t0.00400 \t0.00100\n",
      "1250\t0.29502 \t0.00000 \t0.18601 \t0.00500 \t0.00100\n",
      "2500\t1.36908 \t0.00100 \t0.75704 \t0.01300 \t0.00100\n",
      "3750\t2.89217 \t0.00100 \t1.72910 \t0.01900 \t0.00200\n",
      "5000\t5.12529 \t0.00100 \t3.03017 \t0.02900 \t0.00300\n",
      "6250\t8.14547 \t0.00200 \t4.74127 \t0.03400 \t0.00300\n",
      "7500\t11.77867 \t0.00200 \t6.80139 \t0.04200 \t0.00300\n",
      "8750\t16.03792 \t0.00200 \t9.32853 \t0.05100 \t0.00400\n",
      "10000\t20.99620 \t0.00200 \t12.50372 \t0.06100 \t0.00400\n",
      "               \n",
      "_________________________________________________________________________________________________\n",
      "               \n",
      " THE AVERAGE OF THE 10 RUNS FOR EACH ALGORITHM\n",
      "               \n",
      "               \n",
      "Average time Bubble: [1.6001462936401367, 9.400653839111328, 43.00248622894287, 101.10580921173096, 185.11056900024414, 286.9164228439331, 1246.4712858200073, 2732.256269454956, 4895.680046081543, 7651.937675476074, 11058.432459831238, 15081.862616539001, 19754.82988357544]\n",
      "                                 \n",
      "Average time Insertion [0.39997100830078125, 3.5001516342163086, 15.800881385803223, 37.30206489562988, 72.70421981811523, 109.10627841949463, 440.6251907348633, 1023.8585948944092, 1821.6041564941406, 2843.462610244751, 4141.136860847473, 5577.419066429138, 7427.024793624878]\n",
      "                                 \n",
      "Average time Selection [1.200103759765625, 8.000397682189941, 27.60162353515625, 66.60385131835938, 112.70647048950195, 183.21046829223633, 719.7411298751831, 1642.8939580917358, 2882.864999771118, 4501.057410240173, 6502.37193107605, 8911.80968284607, 11632.065320014954]\n",
      "                                 \n",
      "Average time Merge: [0.599980354309082, 1.2000322341918945, 2.5000810623168945, 4.000234603881836, 5.400300025939941, 7.200384140014648, 15.300917625427246, 25.101423263549805, 32.701826095581055, 42.302489280700684, 51.50299072265625, 61.603569984436035, 71.60406112670898]\n",
      "                                 \n",
      "Average time Counting: [0.0, 0.10001659393310547, 0.30002593994140625, 0.3999948501586914, 0.3999948501586914, 0.19998550415039062, 0.8000850677490234, 1.2000799179077148, 1.9000530242919922, 2.0000696182250977, 2.2001028060913086, 2.9001235961914062, 3.100252151489258]\n",
      "                                 \n",
      "'''''''''''''''''''''''''''''''''''''''''''''''''''''''''''''''''''''''''''''''''''''''''''''''''''''''''''\n"
     ]
    }
   ],
   "source": [
    "import time   # will be used to time the sorting algorithms\n",
    "import random #will be used to generate random arrays of integers\n",
    "from random import randint\n",
    "import numpy as np # will use numpy.mean to return the average of an array of ten run times\n",
    "\n",
    "# The function random_array takes as input a value n and returns an array of n randomly \n",
    "# generated integers with a value between 0 and 99.\n",
    "\n",
    "def random_array(n):\n",
    "    array = []\n",
    "    for i in range(0, n, 1): # low, high, size \n",
    "        array.append(random.randint(0, 100))  # randomly generated arrays will contain integers in range 100\n",
    "    return array\n",
    "\n",
    "\n",
    "# Defining bubble sort function\n",
    "# Taken from: https://runestone.academy/runestone/books/published/pythonds/SortSearch/TheBubbleSort.html \n",
    "# and from: https://www.tutorialspoint.com/python_data_structure/python_sorting_algorithms.htm \n",
    "def bubble_sort(arr):\n",
    "    swapped = True\n",
    "    while swapped:\n",
    "        swapped = False\n",
    "        for i in range(1, len(arr)):\n",
    "            if arr[i-1]>arr[i]:\n",
    "                arr[i],arr[i-1]=arr[i-1],arr[i]\n",
    "                swapped = True\n",
    "    return arr\n",
    "\n",
    "# Defining insertion sort function\n",
    "# Taken from: https://runestone.academy/runestone/books/published/pythonds/SortSearch/TheInsertionSort.html\n",
    "# and from: https://www.tutorialspoint.com/python_data_structure/python_sorting_algorithms.htm\n",
    "def insertion_sort(alist):\n",
    "    for index in range (1,len(alist)):\n",
    "        \n",
    "        # create a kind of temporary variables and position is equal to i-index in alist\n",
    "        k = alist[index]\n",
    "        position = index\n",
    "        \n",
    "        # while loop will check all numbers until they get the right place and every time I'll do this\n",
    "        # I want to reduce position by 1. It will compare the current element with the next one and so on.\n",
    "        while position > 0 and alist[position -1] > k:\n",
    "            alist[position] = alist[position - 1]\n",
    "            position = position -1\n",
    "        alist[position] = k\n",
    "    \n",
    "    # return sorted alist\n",
    "    return alist\n",
    "\n",
    "# Defining selection sort function\n",
    "# Taken from: https://runestone.academy/runestone/books/published/pythonds/SortSearch/TheSelectionSort.html\n",
    "# and https://www.youtube.com/watch?v=JxTghISBmI8 both on 04/05/2020\n",
    "def selection_sort(alist):\n",
    "    # for loop will repeat until all elements are executed. It repeats from the last element to the first.\n",
    "    for fillslot in range(len(alist)-1,0,-1):\n",
    "        # maximum position is set as 0\n",
    "        positionOfMax = 0\n",
    "        # the inner for loop is used to find the maximum value in the unsorted subarray \n",
    "        for location in range(1,fillslot+1):\n",
    "            # Compare the current element with the next one\n",
    "            if alist[location] > alist[positionOfMax]:\n",
    "                positionOfMax= location\n",
    "            \n",
    "            # and swap the compared element with the maximum value \n",
    "            temp = alist[fillslot]\n",
    "            alist[fillslot] = alist[positionOfMax]\n",
    "            alist[positionOfMax] = temp\n",
    "    return alist\n",
    "\n",
    "# Defining merge sort function\n",
    "# Taken from: https://runestone.academy/runestone/books/published/pythonds/SortSearch/TheMergeSort.html\n",
    "# And: https://www.tutorialspoint.com/python_data_structure/python_sorting_algorithms.htm\n",
    "def merge_sort(alist):\n",
    "    if len(alist) > 1:\n",
    "        mid = len(alist) // 2\n",
    "        \n",
    "        # Break into two arrays, left and right. The list is splited in half and merge sort \n",
    "        # is called recursively on each half \n",
    "        left_half = alist[:mid]\n",
    "        right_half = alist[mid:]\n",
    "        \n",
    "        merge_sort(left_half)\n",
    "        merge_sort(right_half)\n",
    "\n",
    "        i=0\n",
    "        j=0\n",
    "        k=0\n",
    "        \n",
    "        # while loop will repeat until all elements are used. On each repeat\n",
    "        # all elements are compared.\n",
    "        while i < len(left_half) and j < len(right_half):\n",
    "            if left_half[i] <= right_half[j]:\n",
    "                alist[k]=left_half[i]\n",
    "                i=i+1\n",
    "            else:\n",
    "                alist[k]=right_half[j]\n",
    "                j=j+1\n",
    "            k=k+1\n",
    "\n",
    "        while i < len(left_half):\n",
    "            alist[k]=left_half[i]\n",
    "            i=i+1\n",
    "            k=k+1\n",
    "\n",
    "        while j < len(right_half):\n",
    "            alist[k]=right_half[j]\n",
    "            j=j+1\n",
    "            k=k+1\n",
    "    \n",
    "    # return sorted alist\n",
    "    return alist\n",
    "\n",
    "# create a counting function with a single input\n",
    "# Defining counting sort function\n",
    "# Taken from: https://www.programiz.com/dsa/counting-sort and \n",
    "# and https://github.com/Thalmann/counting_sort/blob/master/counting_sort.py both on 04/05/2020\n",
    "def counting_sort(alist):\n",
    "    \n",
    "    # create sub arrays\n",
    "    k = max(alist) + 1\n",
    "    n = len(alist)\n",
    "    \n",
    "    # create a count array to count the number of instances \n",
    "    count = [0] * k\n",
    "\n",
    "    # the for loop will execute all elements in alist and will count occurences of each number in the array\n",
    "    for x in alist: \n",
    "        count[x] += 1\n",
    "\n",
    "    total = 0\n",
    "    for x in range(k):\n",
    "        old = count[x]\n",
    "        count[x] = total\n",
    "        total += old\n",
    "    \n",
    "    # create nlist\n",
    "    nlist = [0] * n\n",
    "    for x in alist:\n",
    "        nlist[count[x]] = x\n",
    "        count[x] += 1\n",
    "\n",
    "    # return sorted list\n",
    "    return nlist\n",
    "\n",
    "print(\"_______________________________________________________________________________________________\")\n",
    "print(\"                         \")\n",
    "def is_sorted(arr):\n",
    "    sorted_arr = sorted(arr)\n",
    "    return arr == sorted_arr\n",
    "\n",
    "print(\"Unsorted list is:\")\n",
    "a = create_array()\n",
    "print(a)\n",
    "print(\"Bubble sorted list is:\")\n",
    "a = bubble_sort(a)\n",
    "print(a)\n",
    "print(\"                         \")\n",
    "print(\"Unsorted list is:\")\n",
    "b = create_array()\n",
    "print(b)\n",
    "print(\"Insertion Sorted list is:\")\n",
    "b = insertion_sort(b)\n",
    "print(b)\n",
    "print(\"                         \")\n",
    "print(\"Unsorted list is:\")\n",
    "c = create_array()\n",
    "print(c)\n",
    "print(\"Selection Sorted list is:\")\n",
    "c = selection_sort(c)\n",
    "print(c)\n",
    "print(\"                         \")\n",
    "print(\"Unsorted list is:\")\n",
    "d = create_array()\n",
    "print(d)\n",
    "print(\"Merge Sorted list is:\")\n",
    "d = merge_sort(d)\n",
    "print(d)\n",
    "print(\"                         \")\n",
    "print(\"Unsorted list is:\")\n",
    "e = create_array()\n",
    "print(e)\n",
    "print(\"Counting Sorted list is:\")\n",
    "e = counting_sort(e)\n",
    "print(e)\n",
    "print(\"                         \")\n",
    "print(\" Are all algorithms sorted?? True or False: \")\n",
    "print(is_sorted(a))\n",
    "print(\"                         \")\n",
    "print(\"________________________________________________________________________________________________________\")\n",
    "\n",
    "\n",
    "# Input sizes to test the effect of the input sizes on the running time of each algorithm.\n",
    "def benchmark(size = [100,250,500,750,1000,1250,2500,3750,5000,6250,7500,8750,10000]):\n",
    "    # will be used to time the sorting algorithms\n",
    "    from time import time\n",
    " \n",
    "    b1 = []  # Bubble Sort times\n",
    "    b2 = []  # Insertion Sort times\n",
    "    b3 = []  # Selection Sort times\n",
    "    b4 = []  # Merge Sort times\n",
    "    b5 = []  # Counting Sort times\n",
    "    for length in size:\n",
    "        a = create_array(length,length)\n",
    "\n",
    "        t0 = time()\n",
    "        s = bubble_sort(a)  # sort with bubble sort\n",
    "        t1 = time()\n",
    "        b1.append(t1-t0)  # record bubble time\n",
    "        \n",
    "        t0 = time()\n",
    "        s = insertion_sort(a)  # sort with insertion sort\n",
    "        t1 = time()\n",
    "        b2.append(t1-t0)  # record insertion time\n",
    "        \n",
    "        t0 = time()\n",
    "        s = selection_sort(a)  # sort with selection sort\n",
    "        t1 = time()\n",
    "        b3.append(t1-t0)  # record selection time\n",
    "        \n",
    "        t0 = time()\n",
    "        s = merge_sort(a)  # sort with merge sort\n",
    "        t1 = time()\n",
    "        b4.append(t1-t0)  # record merge time\n",
    "        \n",
    "        t0 = time()\n",
    "        s = counting_sort(a)  # sort with counting sort\n",
    "        t1 = time()\n",
    "        b5.append(t1-t0)  # record counting time\n",
    "\n",
    "\n",
    "    print(\"size \\tBubble Sort\\tInsertion Sort\\tSelection Sort\\tMerge Sort\\tCounting Sort\")\n",
    "    print(\"______________________________________________________________________________________________\")\n",
    "\n",
    "    for i, cur_n in enumerate(size):\n",
    "        print(\"%d\\t%0.5f \\t%0.5f \\t%0.5f \\t%0.5f \\t%0.5f\"%(cur_n,b1[i],b2[i],b3[i],b4[i],b5[i]))\n",
    "benchmark()\n",
    "print(\"               \")\n",
    "print(\"_________________________________________________________________________________________________\")\n",
    "print(\"               \")\n",
    "\n",
    "print(\" THE AVERAGE OF THE 10 RUNS FOR EACH ALGORITHM\")\n",
    "print(\"               \")\n",
    "size = [100,250,500,750,1000,1250,2500,3750,5000,6250,7500,8750,10000]\n",
    "print(\"               \")\n",
    "avg_bubble = [] #Create a list to hold the average time of ten runs\n",
    "avg_insertion = [] #I will calculate the average of the ten run times for each input size\n",
    "avg_selection = [] #I will append the average for each input size to this list\n",
    "avg_merge = [] #Python append to a list: https://www.w3schools.com/python/ref_list_append.asp\n",
    "avg_counting = []\n",
    "\n",
    "for array in size:\n",
    "    benchmark_array = random_array(array) \n",
    "    bubble_time = []  #create a list to hold running times for ten runs of each algorithm\n",
    "    insertion_time = [] # time for each run will be appended to this list \n",
    "    selection_time = [] #I will then calculate the average time of the ten runs using numpy.mean\n",
    "    merge_time = []\n",
    "    counting_time = []\n",
    "\n",
    "    # for loop will execute array 10 times for each algorithm\n",
    "    for runs in range (10):        \n",
    "       \n",
    "        # Bubble Sort time \n",
    "        t0 = time.time()  #current time in seconds \n",
    "        bubble_sort(list(benchmark_array)) #copied array passed into Bubble Sort algorithm\n",
    "        t1 = time.time()  #current time in seconds \n",
    "        time_elapsed = t1 - t0 #time elapsed will be the difference between the start & finish times\n",
    "        #print(time_elapsed) testing purposes, comment out\n",
    "        bubble_time.append(time_elapsed)\n",
    "        \n",
    "        \n",
    "         # Insertion sort time\n",
    "        t0 = time.time()\n",
    "        insertion_sort(list(benchmark_array))\n",
    "        t1 = time.time()\n",
    "        time_elapsed = t1 - t0\n",
    "        \n",
    "        insertion_time.append(time_elapsed)\n",
    "        \n",
    "        \n",
    "        # Selection sort time\n",
    "        t0 = time.time()\n",
    "        selection_sort(list(benchmark_array))\n",
    "        t1 = time.time()\n",
    "        time_elapsed = t1 - t0\n",
    "        \n",
    "        selection_time.append(time_elapsed)\n",
    "        \n",
    "        \n",
    "        # Merge Sort time\n",
    "        t0 = time.time()\n",
    "        merge_sort(list(benchmark_array))\n",
    "        t1 = time.time()\n",
    "        time_elapsed = t1 - t0\n",
    "       \n",
    "        merge_time.append(time_elapsed)\n",
    "        \n",
    "        \n",
    "        # Counting sort time\n",
    "        t0 = time.time()\n",
    "        counting_sort(list(benchmark_array))\n",
    "        t1 = time.time()\n",
    "        time_elapsed = t1 - t0\n",
    "        \n",
    "        counting_time.append(time_elapsed)\n",
    "        \n",
    "    avg_time_bubble_sort = np.mean(bubble_time)* 1000 # multiply by 1000 to get miliseconds\n",
    "    avg_bubble.append(avg_time_bubble_sort)\n",
    "    \n",
    "    \n",
    "    avg_time_insertion_sort = np.mean(insertion_time)* 1000\n",
    "    avg_insertion.append(avg_time_insertion_sort)\n",
    "    \n",
    "    avg_time_selection_sort = np.mean(selection_time)* 1000\n",
    "    avg_selection.append(avg_time_selection_sort)\n",
    "    \n",
    "    \n",
    "    avg_time_merge_sort = np.mean(merge_time)* 1000\n",
    "    avg_merge.append(avg_time_merge_sort)\n",
    "    \n",
    "    \n",
    "    avg_time_counting_sort = np.mean(counting_time)* 1000\n",
    "    avg_counting.append(avg_time_counting_sort)\n",
    "\n",
    "    \n",
    "\n",
    "print(f\"Average time Bubble:\", avg_bubble)\n",
    "print(\"                                 \")\n",
    "print(f\"Average time Insertion\", avg_insertion)\n",
    "print(\"                                 \")\n",
    "print(f\"Average time Selection\", avg_selection)\n",
    "print(\"                                 \")\n",
    "print(f\"Average time Merge:\", avg_merge)\n",
    "print(\"                                 \")\n",
    "print(f\"Average time Counting:\", avg_counting)\n",
    "print(\"                                 \")\n",
    "print(\"'''''''''''''''''''''''''''''''''''''''''''''''''''''''''''''''''''''''''''''''''''''''''''''''''''''''''''\")"
   ]
  },
  {
   "cell_type": "code",
   "execution_count": null,
   "metadata": {},
   "outputs": [],
   "source": []
  }
 ],
 "metadata": {
  "kernelspec": {
   "display_name": "Python 3",
   "language": "python",
   "name": "python3"
  },
  "language_info": {
   "codemirror_mode": {
    "name": "ipython",
    "version": 3
   },
   "file_extension": ".py",
   "mimetype": "text/x-python",
   "name": "python",
   "nbconvert_exporter": "python",
   "pygments_lexer": "ipython3",
   "version": "3.7.1"
  }
 },
 "nbformat": 4,
 "nbformat_minor": 2
}
