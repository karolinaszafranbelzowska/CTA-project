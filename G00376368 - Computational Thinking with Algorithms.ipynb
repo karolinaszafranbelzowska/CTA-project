{
 "cells": [
  {
   "cell_type": "markdown",
   "metadata": {},
   "source": [
    "# Project 2020\n",
    "\n",
    "## Benchmarking Sorting Algorithms\n",
    "\n",
    "### **Karolina Szafran-Belzowska, G00376368**\n"
   ]
  },
  {
   "cell_type": "markdown",
   "metadata": {},
   "source": [
    "#### **Project specification**"
   ]
  },
  {
   "cell_type": "markdown",
   "metadata": {},
   "source": [
    "This project contains a Python application which will be used for benchmark five diffferent sorting algorithms. The project is \n",
    "divided into several parts: Introduction **...write sthg about**"
   ]
  },
  {
   "cell_type": "markdown",
   "metadata": {},
   "source": [
    "## Python Application"
   ]
  },
  {
   "cell_type": "code",
   "execution_count": null,
   "metadata": {},
   "outputs": [],
   "source": []
  },
  {
   "cell_type": "code",
   "execution_count": null,
   "metadata": {},
   "outputs": [],
   "source": []
  },
  {
   "cell_type": "code",
   "execution_count": null,
   "metadata": {},
   "outputs": [],
   "source": []
  },
  {
   "cell_type": "code",
   "execution_count": null,
   "metadata": {},
   "outputs": [],
   "source": []
  },
  {
   "cell_type": "code",
   "execution_count": null,
   "metadata": {},
   "outputs": [],
   "source": []
  },
  {
   "cell_type": "code",
   "execution_count": null,
   "metadata": {},
   "outputs": [],
   "source": []
  },
  {
   "cell_type": "markdown",
   "metadata": {},
   "source": [
    "#### **Benchmarking**"
   ]
  },
  {
   "cell_type": "markdown",
   "metadata": {},
   "source": [
    "The main idea of benchmarking is to figure out how fast the code executes and where the bottlenecks are. These actions lead to optimization. There are situations where you need your code to run faster because your business needs have changed, and you need to figure out what parts of your code are slowing it down.\n",
    "https://www.blog.pythonlibrary.org/2016/05/24/python-101-an-intro-to-benchmarking-your-code/"
   ]
  },
  {
   "cell_type": "markdown",
   "metadata": {},
   "source": [
    "#### **Sorting Algorithm**"
   ]
  },
  {
   "cell_type": "markdown",
   "metadata": {},
   "source": [
    "A Sorting Algorithm is used to rearrange a given array or list elements according to a comparison operator on the elements. The comparison operator is used to decide the new order of element in the respective data structure. \n",
    "Choosing the best sorting algorithm is as about knowing what you are sorting as it is about the relative performance of the algorithms.\n",
    "\n",
    "An _in-place_ sorting algorithm uses constant extra space for producing the output. It sorts the list only by modifying the order of the elements within the list. When all data that needs to be sorted cannot be placed in-memory at a time, the sorting is called _external sorting_. External Sorting is used for massive amount of data. When all data is placed in-memory, then sorting is called _internal sorting._\n",
    "\n",
    "_Stability_ is mainly important when we have key value pairs with duplicate keys possible (like people names as keys and their details as values). And we wish to sort these objects by keys. So, stability means that equivalent elements retain their relative positions, after sorting.\n",
    "\n",
    "https://en.wikipedia.org/wiki/Sorting_algorithm#Stability\n",
    "\n",
    "A **comparison sort** is a type of sorting algorithm that only reads the list elements through a single abstract comparison operation (often a \"less than or equal to\" operator or a three-way comparison) that determines which of two elements should occur first in the final sorted list. https://en.wikipedia.org/wiki/Comparison_sort\n",
    "\n",
    "Some of comparison sorts:\n",
    "```\n",
    "Bubble Sort\n",
    "Selection Sort\n",
    "Insertion Sort\n",
    "Merge Sort\n",
    "Quick Sort\n",
    "Heap Sort\n",
    "Shell Sort\n",
    "Block Sort\n",
    "```\n",
    "A **non-comparison sort** algorithm uses the internal character of the values to be sorted. It can only be applied to some particular cases, and requires particular values. And the best complexity is probably better depending on cases, such as O(n).\n",
    "https://stackoverflow.com/questions/25788781/definition-of-non-comparison-sort\n",
    "\n",
    "Some of non-comparison sorts:\n",
    "```\n",
    "Counting Sort\n",
    "Bucket Sort\n",
    "Postman Sort\n",
    "Flash Sort\n",
    "Burst Sort\n",
    "```\n",
    "\n",
    "First of many differences between these two sorting algorithms is _speed_. Non-comparison sorting is usually faster than sorting because of not doing the comparison. The limit of speed for comparison-based sorting algorithm is O(NlogN) while for non-comparison based algorithms its O(n) i.e. linear time.\n",
    "Second comparison based sorting algorithm e.g. QuickSort, Merge Sort. or Heap Sort requires a Comparator to sort elements e.g. while sorting an array of String, but non-comparison based sorting algorithms doesn't require any comparator.\n",
    "Non-Comparison based sorting algorithm can use to sort any object provided. A non-comparison based sorting algorithm can not be used to sort anything other than integers, that's why they are also known as integer sorting.\n",
    "The best case for memory complexity with the comparison based sorting is O(1) because it's possible to sort an array of numbers in place. On the other hand, memory complexity for non-comparison based sorting algorithm is always O(n).\n",
    "The lower bound of CPU complexity or how much time it take for the algorithm to sort n numbers in the worst case is O(NlogN), but in the case of non-comparison based sorting the CPU complexity lower bound is O(n).\n",
    "\n"
   ]
  },
  {
   "cell_type": "markdown",
   "metadata": {},
   "source": [
    "#### **Bubble Sort** as a simple comparison-based sort"
   ]
  },
  {
   "cell_type": "markdown",
   "metadata": {},
   "source": [
    "[**Bubble sort**](https://en.wikipedia.org/wiki/Bubble_sort), one of the simplest algorithms for sorting an array, consists of repeatedly exchanging pairs of adjacent array elements that are out of order until no such pair remains. \n",
    "The serial software implementation of bubble sort has a time complexity that is: \n",
    "> **Worst and Average Case Time Complexity:** O(n*2). Worst case occurs when array is reverse sorted.\n",
    "\n",
    "> **Best Case Time Complexity:** O(n). Best case occurs when array is already sorted.\n",
    "\n",
    "This type of sort is a slow-and-predictable sorting algorithm. Is often used to introduce the concept of a sorting algorithm."
   ]
  },
  {
   "cell_type": "markdown",
   "metadata": {},
   "source": [
    "https://groups.csail.mit.edu/cag/raw/benchmark/suites/bubblesort/README.html\n",
    "\n",
    "http://rperl.org/performance_benchmarks_bubble.html\n",
    "\n",
    "https://www.youtube.com/watch?v=AthG28-_RuM&t=445s\n",
    "\n",
    "https://www.geeksforgeeks.org/time-complexities-of-all-sorting-algorithms/\n",
    "\n",
    "https://www.tutorialspoint.com/python_data_structure/python_sorting_algorithms.htm"
   ]
  },
  {
   "cell_type": "markdown",
   "metadata": {},
   "source": [
    "## An implementation of Bubble Sort (a simple comparison-based sort)"
   ]
  },
  {
   "cell_type": "markdown",
   "metadata": {},
   "source": [
    "### Example 1:"
   ]
  },
  {
   "cell_type": "code",
   "execution_count": 21,
   "metadata": {},
   "outputs": [
    {
     "name": "stdout",
     "output_type": "stream",
     "text": [
      "Enter size of the list: 6\n",
      "Enter the element:\t64\n",
      "Enter the element:\t33\n",
      "Enter the element:\t28\n",
      "Enter the element:\t69\n",
      "Enter the element:\t10\n",
      "Enter the element:\t97\n",
      "['10', '28', '33', '64', '69', '97']\n"
     ]
    }
   ],
   "source": [
    "# Defining bubble sort function\n",
    "# Taken from: https://www.youtube.com/watch?v=AthG28-_RuM&t=445s on 01/05/2020\n",
    "def bubbleSort(alist): # an argument called sort_list\n",
    "    \n",
    "    for i in range(len(alist)): \n",
    "        for j in range (len(alist)-1):\n",
    "            \n",
    "            # compare the item on the left with the item on the right and if it's larger then swap places\n",
    "            if alist[j] > alist[j+1]:\n",
    "                alist[j], alist[j+1] = alist[j+1], alist[j]\n",
    "    print(alist)\n",
    "\n",
    "\n",
    "# Create an empty array and size of the list\n",
    "lst=[]\n",
    "size = int(input(\"Enter size of the list: \"))\n",
    "\n",
    "# Enter n elements of the list\n",
    "for i in range(size):\n",
    "    elements = input(\"Enter the element:\\t\")\n",
    "    lst.append(elements)\n",
    "\n",
    "# print a Bubble sorted list\n",
    "bubbleSort(lst)\n",
    " "
   ]
  },
  {
   "cell_type": "markdown",
   "metadata": {},
   "source": [
    "### Example 2"
   ]
  },
  {
   "cell_type": "code",
   "execution_count": 20,
   "metadata": {},
   "outputs": [
    {
     "name": "stdout",
     "output_type": "stream",
     "text": [
      "Sorted list is:\n",
      "[6, 12, 29, 33, 46.59, 65, 72, 84, 98, 102, 587]\n"
     ]
    }
   ],
   "source": [
    "# Defining bubble sort function\n",
    "# Taken from: https://www.tutorialspoint.com/python_data_structure/python_sorting_algorithms.htm on 04/05/2020\n",
    "def bubbleSort(alist): \n",
    "\n",
    "    for i in range(len(alist)-1,0,-1): # outer for loop to swap the elements in correct order\n",
    "        for j in range(i):\n",
    "            \n",
    "            # compare the item on the left with the item on the right and if it's larger then swap places\n",
    "            if alist[j] > alist[j+1]: \n",
    "                temp = alist[j]\n",
    "                alist[j] = alist[j+1]\n",
    "                alist[j+1] = temp\n",
    "\n",
    "\n",
    "# Create a list to use a Bubble sort\n",
    "list = [98,65,29,12,6,102,587,33,46.59,72,84]\n",
    "\n",
    "# Call the function\n",
    "bubbleSort(list)\n",
    "\n",
    "# print sorted list \n",
    "print(\"Sorted list is:\")\n",
    "print(list)"
   ]
  },
  {
   "cell_type": "markdown",
   "metadata": {},
   "source": [
    "#### **Insertion Sort**  -  simple comparison-based sort (my choice)"
   ]
  },
  {
   "cell_type": "markdown",
   "metadata": {},
   "source": [
    "[**Insertion sort**](https://en.wikipedia.org/wiki/Insertion_sort) is a simple sorting algorithm that works the way we sort playing cards in our hands. Insertion sort takes maximum time to sort if elements are sorted in reverse order. And it takes minimum time when elements are already sorted. Insertion sort is used when number of elements is small. It can also be useful when input array is almost sorted, only few elements are misplaced in complete big array.\n",
    "\n",
    "It involves finding the right place for a given element in a list.  At the beginning the function compares the first two elements and sorts them by comparing them. Then the third element needs to find its proper position among the previous two sorted elements. This way more and more elements are added to the already sorted list by putting them in their proper position.\n",
    "\n",
    "Time Complexity: O(n*2)\n",
    "\n",
    "https://www.youtube.com/watch?v=AgtzMtrzhzs\n",
    "\n",
    "https://www.geeksforgeeks.org/insertion-sort/\n",
    "\n",
    "https://www.tutorialspoint.com/python_data_structure/python_sorting_algorithms.htm"
   ]
  },
  {
   "cell_type": "markdown",
   "metadata": {},
   "source": [
    "## An implementation of Inserion Sort ( a simple comparison-based sort - my choice)"
   ]
  },
  {
   "cell_type": "markdown",
   "metadata": {},
   "source": [
    "### Example 1"
   ]
  },
  {
   "cell_type": "code",
   "execution_count": 18,
   "metadata": {},
   "outputs": [
    {
     "name": "stdout",
     "output_type": "stream",
     "text": [
      "Sorted list is:\n",
      "[5, 12, 15, 17, 21, 25, 29, 30, 31, 33, 76, 82, 105]\n"
     ]
    }
   ],
   "source": [
    "# Defining insertion sort function\n",
    "# Taken from: https://runestone.academy/runestone/books/published/pythonds/SortSearch/TheInsertionSort.html on 02/05/2020\n",
    "def insertionSort(alist):\n",
    "    for i in range (1, len(alist)):\n",
    "        currentValue = alist[i] # create kind of temporary variables\n",
    "        position = i  # position which I am checking is equal to i index of the character\n",
    "        \n",
    "        while (position > 0) and (alist[position - 1] > currentValue):\n",
    "                             # while loop will check all numbers until they get\n",
    "                             # the right place and every time I'll do this\n",
    "                             # I want to reduce position by 1.\n",
    "            alist[position] = alist [position - 1]                 \n",
    "            position -= 1                                                  \n",
    "            \n",
    "            alist[position] = currentValue\n",
    "\n",
    "# Create a list to use an Insertion sort \n",
    "alist = [12,15,25,31,21,5,82,76,30,29,33,17,105]\n",
    "\n",
    "# Call the function\n",
    "insertionSort(alist)\n",
    "\n",
    "# print sorted list\n",
    "print(\"Sorted list is:\")\n",
    "print(alist)\n"
   ]
  },
  {
   "cell_type": "markdown",
   "metadata": {},
   "source": [
    "### Example 2"
   ]
  },
  {
   "cell_type": "code",
   "execution_count": 2,
   "metadata": {},
   "outputs": [
    {
     "name": "stdout",
     "output_type": "stream",
     "text": [
      "Sorted list is:\n",
      "[1, 6, 15, 15, 26, 29, 33, 46, 51, 68, 78, 82, 89, 94, 256, 684]\n"
     ]
    }
   ],
   "source": [
    "# Defining insertion sort function\n",
    "# Taken from: https://www.tutorialspoint.com/python_data_structure/python_sorting_algorithms.htm on 04/05/2020\n",
    "def insertionSort(alist):\n",
    "    for i in range(1, len(alist)):\n",
    "        j = i-1\n",
    "        nxt_element = alist[i]\n",
    "\n",
    "        # Compare the current element with the next one\n",
    "        while (alist[j] > nxt_element) and (j >= 0):\n",
    "            alist[j+1] = alist[j]\n",
    "            j=j-1\n",
    "        alist[j+1] = nxt_element\n",
    "\n",
    "# Create a list to use an Insertion sort\n",
    "list = [1,15,68,256,94,78,33,46,51,684,82,26,89,15,6,29]\n",
    "\n",
    "# Call the function\n",
    "insertionSort(list)\n",
    "\n",
    "# print sorted list\n",
    "print(\"Sorted list is:\")\n",
    "print(list)"
   ]
  },
  {
   "cell_type": "markdown",
   "metadata": {},
   "source": [
    "## An implementation of Selection Sort ( a simple comparison-based sort - my choice)"
   ]
  },
  {
   "cell_type": "markdown",
   "metadata": {},
   "source": [
    "### Example 1"
   ]
  },
  {
   "cell_type": "code",
   "execution_count": 14,
   "metadata": {},
   "outputs": [
    {
     "name": "stdout",
     "output_type": "stream",
     "text": [
      "Sorted list is:\n",
      "[17, 20, 26, 31, 41, 44, 54, 55, 77, 93, 159, 364, 458, 789, 9874]\n"
     ]
    }
   ],
   "source": [
    "# Defining a Selection Sort\n",
    "# Taken from: https://runestone.academy/runestone/books/published/pythonds/SortSearch/TheSelectionSort.html on 03/05/2020\n",
    "def selectionSort(alist):\n",
    "    # for loop will repeat until all elements are executed. It repeats from the last element to the first.\n",
    "    for fillslot in range(len(alist)-1,0,-1):\n",
    "        # maximum position is set as 0\n",
    "        positionOfMax = 0\n",
    "        # the inner for loop is used to find the maximum value in the unsorted subarray \n",
    "        for location in range(1,fillslot+1):\n",
    "            # Compare the current element with the next one\n",
    "            if alist[location] > alist[positionOfMax]:\n",
    "                positionOfMax= location\n",
    "            \n",
    "            # and swap the compared element with the maximum value \n",
    "            temp = alist[fillslot]\n",
    "            alist[fillslot] = alist[positionOfMax]\n",
    "            alist[positionOfMax] = temp\n",
    "        \n",
    "\n",
    "# Create a list to use a Selection sort\n",
    "alist = [54,26,93,17,77,31,44,55,20,159,458,41,789,364,9874]\n",
    "\n",
    "# call the function\n",
    "selectionSort(alist)\n",
    "\n",
    "#print sorted list\n",
    "print(\"Sorted list is:\")\n",
    "print(alist)"
   ]
  },
  {
   "cell_type": "markdown",
   "metadata": {},
   "source": [
    "### Example 2"
   ]
  },
  {
   "cell_type": "code",
   "execution_count": 6,
   "metadata": {},
   "outputs": [
    {
     "name": "stdout",
     "output_type": "stream",
     "text": [
      "Sorted list is:\n",
      "[3, 5, 10, 17, 23, 28, 33, 64, 105]\n"
     ]
    }
   ],
   "source": [
    "# Defining a Selection Sort\n",
    "# Taken from: https://www.youtube.com/watch?v=JxTghISBmI8 on 03/05/2020\n",
    "def selectionSort(alist):\n",
    "    # sort index is set as 0\n",
    "    sort_idx = 0\n",
    "    # While loop will execute all elements in alist\n",
    "    while sort_idx < len(alist):\n",
    "        min_idx = alist[sort_idx:].index(min(alist[sort_idx:])) + sort_idx\n",
    "        # swap the elements \n",
    "        alist[sort_idx], alist[min_idx] = alist[min_idx], alist[sort_idx]\n",
    "        sort_idx += 1\n",
    "    return alist\n",
    "\n",
    "\n",
    "# Create a list to use a Selection sort\n",
    "alist = [5,3,64,28,10,23,33,17,105]\n",
    "\n",
    "#call the function\n",
    "selectionSort(alist)\n",
    "\n",
    "# print sorted list\n",
    "print(\"Sorted list is:\")\n",
    "print(alist)\n",
    "    "
   ]
  },
  {
   "cell_type": "markdown",
   "metadata": {},
   "source": [
    "## An implementation of Merge Sort (an efficient comparison based sort)"
   ]
  },
  {
   "cell_type": "markdown",
   "metadata": {},
   "source": [
    "### Example 1"
   ]
  },
  {
   "cell_type": "code",
   "execution_count": 17,
   "metadata": {},
   "outputs": [
    {
     "name": "stdout",
     "output_type": "stream",
     "text": [
      "Sorted list is:\n",
      "[11, 12, 16, 20, 25, 26, 33, 45, 69, 70]\n"
     ]
    }
   ],
   "source": [
    "# Defining a Merge sort function\n",
    "# Taken from: https://www.youtube.com/watch?v=3aTfQvs-_hA on 30/04/2020\n",
    "def mergeSort(a,b):\n",
    "    c=[]  # That will be final and sorted array\n",
    "    a_idx,b_idx = 0,0\n",
    "    while a_idx < len(a) and b_idx < len(b):      \n",
    "               # while loop will repeat until all elements are used. On each repeat\n",
    "               # all elements are compared and appended whichever is smaller onto a new merged arrays.\n",
    "        if a[a_idx] < b[b_idx]:                    \n",
    "            c.append(a[a_idx])                     \n",
    "            a_idx += 1\n",
    "        else:\n",
    "            c.append(b[b_idx])\n",
    "            b_idx += 1\n",
    "    if a_idx == len(a): c.extend(b[b_idx:])        \n",
    "    else:               c.extend(a[a_idx:])        \n",
    "    return c\n",
    "              # At the end of the while loop I extended the merged list with two input arrays\n",
    "\n",
    "# If I want to use a Merge sort function I need to create two lists: a and b\n",
    "a= [12,16,20,25,69]\n",
    "b= [11,26,33,45,70]\n",
    "\n",
    "# Call and print the function\n",
    "print(\"Sorted list is:\")\n",
    "print(mergeSort(a,b))"
   ]
  },
  {
   "cell_type": "markdown",
   "metadata": {},
   "source": [
    "### Example 2"
   ]
  },
  {
   "cell_type": "code",
   "execution_count": 16,
   "metadata": {},
   "outputs": [
    {
     "name": "stdout",
     "output_type": "stream",
     "text": [
      "Karolina\n"
     ]
    }
   ],
   "source": [
    "# Defining a Merge sort function\n",
    "# Taken from: Comutational Thinking with Algorithms Module - Code runner MCQ\n",
    "def mergeSort(a,b):\n",
    "    if(len(b) == 0):\n",
    "        return a\n",
    "    if(len(a) == 1 and len(b == 1)):\n",
    "        return a + b\n",
    "    else:\n",
    "        return a[0] + b[0] + mergeSort(a[1:],b[1:]) # It will link/merge the first and the second string together.\n",
    "\n",
    "# This is my two unsorted lists: a and b\n",
    "a = \"Krlna\"\n",
    "b = \"aoi\"        # The second string is always shorter! A new string has always the last part of\n",
    "                 # the firts string atthe end (its remainder)\n",
    "\n",
    "# Call the function. This function will create a new string, in this example my name. \n",
    "# The merge will link two strings a and b.\n",
    "print(mergeSort(a,b))\n"
   ]
  },
  {
   "cell_type": "markdown",
   "metadata": {},
   "source": [
    "## An implementation of Counting Sort ( a non-comparison sort)"
   ]
  },
  {
   "cell_type": "markdown",
   "metadata": {},
   "source": [
    "### Example 1"
   ]
  },
  {
   "cell_type": "code",
   "execution_count": 12,
   "metadata": {},
   "outputs": [
    {
     "name": "stdout",
     "output_type": "stream",
     "text": [
      "[1, 4, 9, 9, 13, 15, 17, 25, 25, 27, 45, 66, 97, 110, 802, 0]\n"
     ]
    }
   ],
   "source": [
    "# Defining a Counting sort function\n",
    "# Taken from: https://gist.github.com/haandol/a5df913cfd278820e43e on 04/05/2020\n",
    "def countingSort(alist):\n",
    "    # create counts array \n",
    "    counts = [0 for i in range(max(alist)+1)]\n",
    "\n",
    "    for x in alist:\n",
    "        counts[x] += 1 \n",
    "\n",
    "    for index in range(1, len(counts)):\n",
    "        counts[index] = counts[index-1] + counts[index]\n",
    "\n",
    "    nlist = [0 for loop in range(len(alist)+1)]\n",
    "    for x in alist:\n",
    "        index = counts[x] - 1\n",
    "        nlist[index] = x\n",
    "        counts[x] -= 1 \n",
    "\n",
    "    return nlist\n",
    "    \n",
    "# Create alist to call a counting sort\n",
    "alist = [27, 4, 15, 9, 110, 13, 25, 1, 17, 802, 66, 25, 45, 97, 9]\n",
    "\n",
    "# Call and print the function\n",
    "print(countingSort(alist))"
   ]
  },
  {
   "cell_type": "markdown",
   "metadata": {},
   "source": [
    "### Example 2"
   ]
  },
  {
   "cell_type": "code",
   "execution_count": 36,
   "metadata": {},
   "outputs": [
    {
     "name": "stdout",
     "output_type": "stream",
     "text": [
      "Sorted Array is:\n",
      "[6, 15, 18, 25, 33, 36, 49, 75, 75, 93, 156, 159, 258, 763, 8743]\n"
     ]
    }
   ],
   "source": [
    "# Defining a Counting sort function\n",
    "# Taken from: https://github.com/Thalmann/counting_sort/blob/master/counting_sort.py on 04/05/2020\n",
    "def countingSort(alist):\n",
    "    \n",
    "    k = max(alist) + 1\n",
    "    n = len(alist)\n",
    "    \n",
    "    # create a count array to count the number of instances \n",
    "    count = [0] * k\n",
    "\n",
    "    # the for loop will execute all elements in alist and will count occurences of each number in the array\n",
    "    for x in alist: \n",
    "        count[x] += 1\n",
    "\n",
    "    total = 0\n",
    "    for x in range(k):\n",
    "        old = count[x]\n",
    "        count[x] = total\n",
    "        total += old\n",
    "    \n",
    "    # create nlist\n",
    "    nlist = [0] * n\n",
    "    for x in alist:\n",
    "        nlist[count[x]] = x\n",
    "        count[x] += 1\n",
    "\n",
    "    return nlist\n",
    "\n",
    "\n",
    "\n",
    "# Create alist to use counting sort\n",
    "alist = [15,6,159,36,25,93,33,18,49,75,258,763,75,156,8743]\n",
    "\n",
    "# call and print the function\n",
    "print(\"Sorted Array is:\") \n",
    "print(countingSort(alist))"
   ]
  },
  {
   "cell_type": "markdown",
   "metadata": {},
   "source": [
    "## Benchmarking the sort algorithms"
   ]
  },
  {
   "cell_type": "code",
   "execution_count": 5,
   "metadata": {},
   "outputs": [],
   "source": [
    "# Create_array function will be used to generate randomized arrays\n",
    "# This function is used to implement and benchmark each algorithm in seconds. \n",
    "# It is more to save time when it is executed and see how it all work.\n",
    "\n",
    "def create_array(length=10, maxint=100): # length parameter gives me the length of the new array and maxint \n",
    "                                         # parameter to mark the upper bound\n",
    "    new_arr = [randint(0,maxint) for _ in range(length)]\n",
    "    return new_arr\n"
   ]
  },
  {
   "cell_type": "code",
   "execution_count": 7,
   "metadata": {},
   "outputs": [
    {
     "name": "stdout",
     "output_type": "stream",
     "text": [
      "_______________________________________________________________________________________________\n",
      "                         \n",
      "Unsorted list is:\n",
      "[5, 70, 3, 74, 0, 9, 51, 35, 59, 26]\n",
      "Bubble sorted list is:\n",
      "[0, 3, 5, 9, 26, 35, 51, 59, 70, 74]\n",
      "                         \n",
      "Unsorted list is:\n",
      "[90, 13, 12, 81, 73, 8, 94, 69, 33, 6]\n",
      "Insertion Sorted list is:\n",
      "[6, 8, 12, 13, 33, 69, 73, 81, 90, 94]\n",
      "                         \n",
      "Unsorted list is:\n",
      "[41, 61, 3, 43, 49, 24, 70, 79, 12, 91]\n",
      "Selection Sorted list is:\n",
      "[3, 12, 24, 41, 43, 49, 61, 70, 79, 91]\n",
      "                         \n",
      "Unsorted list is:\n",
      "[94, 92, 47, 76, 65, 14, 71, 91, 96, 73]\n",
      "Merge Sorted list is:\n",
      "[14, 47, 65, 71, 73, 76, 91, 92, 94, 96]\n",
      "                         \n",
      "Unsorted list is:\n",
      "[3, 98, 73, 24, 60, 68, 11, 9, 83, 49]\n",
      "Counting Sorted list is:\n",
      "[3, 9, 11, 24, 49, 60, 68, 73, 83, 98]\n",
      "                         \n",
      " Are all algorithms sorted?? True or False: \n",
      "True\n",
      "                         \n",
      "'''''''''''''''''''''''''''''''''''''''''''''''''''''''''''''''''''''''''''''''''''''''''''''''''''''\n",
      "'''''''''''''''''''''''''''''''''''''''''''''''''''''''''''''''''''''''''''''''''''''''''''''''''''''\n",
      "  Benchmark the runtime performance of Bubble Sort, Insertion Sort, Selection Sort,\n",
      "  Merge Sort and Counting Sort - output in seconds\n",
      "size \tBubble Sort\tInsertion Sort\tSelection Sort\tMerge Sort\tCounting Sort\n",
      "_____________________________________________________________________________________________________\n",
      "100\t0.00100 \t0.00000 \t0.00200 \t0.00000 \t0.00000\n",
      "250\t0.01200 \t0.00000 \t0.00900 \t0.00100 \t0.00000\n",
      "500\t0.06200 \t0.00000 \t0.03700 \t0.00300 \t0.00000\n",
      "750\t0.14801 \t0.00000 \t0.08200 \t0.00400 \t0.00000\n",
      "1000\t0.23501 \t0.00000 \t0.12101 \t0.00400 \t0.00100\n",
      "1250\t0.29902 \t0.00000 \t0.18501 \t0.00600 \t0.00100\n",
      "2500\t1.28407 \t0.00100 \t0.86505 \t0.01200 \t0.00100\n",
      "3750\t2.88517 \t0.00100 \t1.64509 \t0.01900 \t0.00200\n",
      "5000\t5.30030 \t0.00100 \t3.08718 \t0.02700 \t0.00200\n",
      "6250\t8.11946 \t0.00200 \t4.78627 \t0.03400 \t0.00300\n",
      "7500\t11.83568 \t0.00200 \t6.98540 \t0.04100 \t0.00400\n",
      "8750\t16.00292 \t0.00200 \t9.64655 \t0.04900 \t0.00400\n",
      "10000\t20.95620 \t0.00200 \t12.56672 \t0.05800 \t0.00500\n",
      "               \n",
      "_________________________________________________________________________________________________________\n",
      "               \n",
      " The average of the 10 runs for each algorithm\n",
      "Results will be printed in miliseconds and it will take around 40 min to execute outputs \n",
      "               \n",
      "               \n",
      "Average time Bubble: [1.5000581741333008, 11.200690269470215, 44.60253715515137, 98.70567321777344, 187.21067905426025, 293.71674060821533, 1212.6693964004517, 2786.8593215942383, 4946.882843971252, 7784.045171737671, 11140.137243270874, 15266.773176193237, 19717.6278591156]\n",
      "                                 \n",
      "Average time Insertion [0.7000923156738281, 3.4002065658569336, 16.200923919677734, 37.902116775512695, 69.70396041870117, 109.00630950927734, 452.3258924484253, 1020.4584836959838, 1837.0051383972168, 2960.6693744659424, 4135.936617851257, 5658.823657035828, 7419.424390792847]\n",
      "                                 \n",
      "Average time Selection [1.0000228881835938, 7.0003509521484375, 27.701568603515625, 62.40360736846924, 114.50657844543457, 178.81014347076416, 753.7431001663208, 1635.8934879302979, 2915.3666973114014, 4565.261125564575, 6539.5740032196045, 8890.008473396301, 11608.263897895813]\n",
      "                                 \n",
      "Average time Merge: [0.3000020980834961, 1.1000871658325195, 2.500152587890625, 4.000210762023926, 5.700373649597168, 6.800436973571777, 15.100908279418945, 25.501513481140137, 39.40236568450928, 41.50240421295166, 50.70290565490723, 62.703609466552734, 71.4040756225586]\n",
      "                                 \n",
      "Average time Counting: [0.09999275207519531, 0.09999275207519531, 0.20003318786621094, 0.0, 0.09999275207519531, 0.3000497817993164, 0.6999731063842773, 1.300048828125, 1.300048828125, 1.9000768661499023, 2.100062370300293, 2.4001359939575195, 3.2001733779907227]\n",
      "                                 \n",
      "'''''''''''''''''''''''''''''''''''''''''''''''''''''''''''''''''''''''''''''''''''''''''''''''''''''''''''\n"
     ]
    }
   ],
   "source": [
    "# Import all libraries important for the project\n",
    "import time   \n",
    "import random \n",
    "from random import randint\n",
    "import numpy as np \n",
    "\n",
    "# The function random_array takes as input a value n and returns an array of n randomly \n",
    "# generated integers with a value between 0 and 99. \n",
    "\n",
    "def random_array(n):  # Taken from: https://docs.python.org/3/library/random.html\n",
    "    array = []        # Create an array called array\n",
    "    for i in range(0, n, 1): # low, high, size \n",
    "        array.append(random.randint(0, 100))  # randomly generated arrays will contain integers between 0 and 100\n",
    "                                              # and append that numbers to array \n",
    "    return array\n",
    "\n",
    "\n",
    "# Defining bubble sort function\n",
    "# Taken from: https://runestone.academy/runestone/books/published/pythonds/SortSearch/TheBubbleSort.html \n",
    "# and from: https://www.tutorialspoint.com/python_data_structure/python_sorting_algorithms.htm \n",
    "def bubble_sort(arr):\n",
    "    swapped = True\n",
    "    while swapped:\n",
    "        swapped = False\n",
    "        for i in range(1, len(arr)):\n",
    "            if arr[i-1]>arr[i]:\n",
    "                arr[i],arr[i-1]=arr[i-1],arr[i]\n",
    "                swapped = True\n",
    "    return arr\n",
    "\n",
    "# Defining insertion sort function\n",
    "# Taken from: https://runestone.academy/runestone/books/published/pythonds/SortSearch/TheInsertionSort.html\n",
    "# and from: https://www.tutorialspoint.com/python_data_structure/python_sorting_algorithms.htm\n",
    "def insertion_sort(alist):\n",
    "    for index in range (1,len(alist)):\n",
    "        \n",
    "        # create a kind of temporary variables and position is equal to i-index in alist\n",
    "        k = alist[index]\n",
    "        position = index\n",
    "        \n",
    "        # while loop will check all numbers until they get the right place and every time I'll do this\n",
    "        # I want to reduce position by 1. It will compare the current element with the next one and so on.\n",
    "        while position > 0 and alist[position -1] > k:\n",
    "            alist[position] = alist[position - 1]\n",
    "            position = position -1\n",
    "        alist[position] = k\n",
    "    \n",
    "    # return sorted alist\n",
    "    return alist\n",
    "\n",
    "# Defining selection sort function\n",
    "# Taken from: https://runestone.academy/runestone/books/published/pythonds/SortSearch/TheSelectionSort.html\n",
    "# and https://www.youtube.com/watch?v=JxTghISBmI8 both on 04/05/2020\n",
    "def selection_sort(alist):\n",
    "    # for loop will repeat until all elements are executed. It repeats from the last element to the first.\n",
    "    for fillslot in range(len(alist)-1,0,-1):\n",
    "        # maximum position is set as 0\n",
    "        positionOfMax = 0\n",
    "        # the inner for loop is used to find the maximum value in the unsorted subarray \n",
    "        for location in range(1,fillslot+1):\n",
    "            # Compare the current element with the next one\n",
    "            if alist[location] > alist[positionOfMax]:\n",
    "                positionOfMax= location\n",
    "            \n",
    "            # and swap the compared element with the maximum value \n",
    "            temp = alist[fillslot]\n",
    "            alist[fillslot] = alist[positionOfMax]\n",
    "            alist[positionOfMax] = temp\n",
    "    return alist\n",
    "\n",
    "# Defining merge sort function\n",
    "# Taken from: https://runestone.academy/runestone/books/published/pythonds/SortSearch/TheMergeSort.html\n",
    "# And: https://www.tutorialspoint.com/python_data_structure/python_sorting_algorithms.htm\n",
    "def merge_sort(alist):\n",
    "    if len(alist) > 1:\n",
    "        mid = len(alist) // 2\n",
    "        \n",
    "        # Break into two arrays, left and right. The list is splited in half and merge sort \n",
    "        # is called recursively on each half \n",
    "        left_half = alist[:mid]\n",
    "        right_half = alist[mid:]\n",
    "        \n",
    "        merge_sort(left_half)\n",
    "        merge_sort(right_half)\n",
    "\n",
    "        i=0\n",
    "        j=0\n",
    "        k=0\n",
    "        \n",
    "        # while loop will repeat until all elements are used. On each repeat\n",
    "        # all elements are compared.\n",
    "        while i < len(left_half) and j < len(right_half):\n",
    "            if left_half[i] <= right_half[j]:\n",
    "                alist[k]=left_half[i]\n",
    "                i=i+1\n",
    "            else:\n",
    "                alist[k]=right_half[j]\n",
    "                j=j+1\n",
    "            k=k+1\n",
    "\n",
    "        while i < len(left_half):\n",
    "            alist[k]=left_half[i]\n",
    "            i=i+1\n",
    "            k=k+1\n",
    "\n",
    "        while j < len(right_half):\n",
    "            alist[k]=right_half[j]\n",
    "            j=j+1\n",
    "            k=k+1\n",
    "    \n",
    "    # return sorted alist\n",
    "    return alist\n",
    "\n",
    "# create a counting function with a single input\n",
    "# Defining counting sort function\n",
    "# Taken from: https://www.programiz.com/dsa/counting-sort and \n",
    "# and https://github.com/Thalmann/counting_sort/blob/master/counting_sort.py both on 04/05/2020\n",
    "def counting_sort(alist):\n",
    "    \n",
    "    # create sub arrays\n",
    "    k = max(alist) + 1\n",
    "    n = len(alist)\n",
    "    \n",
    "    # create a count array to count the number of instances \n",
    "    count = [0] * k\n",
    "\n",
    "    # the for loop will execute all elements in alist and will count occurences of each number in the array\n",
    "    for x in alist: \n",
    "        count[x] += 1\n",
    "\n",
    "    total = 0\n",
    "    for x in range(k):\n",
    "        old = count[x]\n",
    "        count[x] = total\n",
    "        total += old\n",
    "    \n",
    "    # create nlist\n",
    "    nlist = [0] * n\n",
    "    for x in alist:\n",
    "        nlist[count[x]] = x\n",
    "        count[x] += 1\n",
    "\n",
    "    # return sorted list\n",
    "    return nlist\n",
    "\n",
    "print(\"_______________________________________________________________________________________________\")\n",
    "print(\"                         \")\n",
    "def is_sorted(arr):\n",
    "    sorted_arr = sorted(arr)\n",
    "    return arr == sorted_arr\n",
    "\n",
    "print(\"Unsorted list is:\")\n",
    "a = create_array()\n",
    "print(a)\n",
    "print(\"Bubble sorted list is:\")\n",
    "a = bubble_sort(a)\n",
    "print(a)\n",
    "print(\"                         \")\n",
    "print(\"Unsorted list is:\")\n",
    "b = create_array()\n",
    "print(b)\n",
    "print(\"Insertion Sorted list is:\")\n",
    "b = insertion_sort(b)\n",
    "print(b)\n",
    "print(\"                         \")\n",
    "print(\"Unsorted list is:\")\n",
    "c = create_array()\n",
    "print(c)\n",
    "print(\"Selection Sorted list is:\")\n",
    "c = selection_sort(c)\n",
    "print(c)\n",
    "print(\"                         \")\n",
    "print(\"Unsorted list is:\")\n",
    "d = create_array()\n",
    "print(d)\n",
    "print(\"Merge Sorted list is:\")\n",
    "d = merge_sort(d)\n",
    "print(d)\n",
    "print(\"                         \")\n",
    "print(\"Unsorted list is:\")\n",
    "e = create_array()\n",
    "print(e)\n",
    "print(\"Counting Sorted list is:\")\n",
    "e = counting_sort(e)\n",
    "print(e)\n",
    "print(\"                         \")\n",
    "print(\" Are all algorithms sorted?? True or False: \")\n",
    "print(is_sorted(a))\n",
    "print(\"                         \")\n",
    "print(\"'''''''''''''''''''''''''''''''''''''''''''''''''''''''''''''''''''''''''''''''''''''''''''''''''''''\")\n",
    "\n",
    "\n",
    "print(\"'''''''''''''''''''''''''''''''''''''''''''''''''''''''''''''''''''''''''''''''''''''''''''''''''''''\")\n",
    "print(\"  Benchmark the runtime performance of Bubble Sort, Insertion Sort, Selection Sort,\")\n",
    "print(\"  Merge Sort and Counting Sort - output in seconds\")\n",
    "\n",
    "# Input sizes to test the effect of the input sizes on the running time of each algorithm.\n",
    "# Taken from: https://www.youtube.com/watch?v=vuOpxXeFjg8&t=327s on 03/05/2020\n",
    "def benchmark(size = [100,250,500,750,1000,1250,2500,3750,5000,6250,7500,8750,10000]):\n",
    "    # time function will be used to time the sorting algorithms\n",
    "    from time import time\n",
    " \n",
    "    b1 = []  # Bubble Sort times\n",
    "    b2 = []  # Insertion Sort times\n",
    "    b3 = []  # Selection Sort times\n",
    "    b4 = []  # Merge Sort times\n",
    "    b5 = []  # Counting Sort times\n",
    "    for length in size:\n",
    "        a = create_array(length,length)               # t0 - start time\n",
    "                                                      # t1 - end time\n",
    "        # Bubble time sort \n",
    "        t0 = time()  \n",
    "        s = bubble_sort(a)  \n",
    "        t1 = time()  \n",
    "        b1.append(t1-t0)  # record bubble time\n",
    "        \n",
    "        # Insertion time sort\n",
    "        t0 = time()  \n",
    "        s = insertion_sort(a)  \n",
    "        t1 = time()  \n",
    "        b2.append(t1-t0)  # record insertion time\n",
    "        \n",
    "        # Selction time sort\n",
    "        t0 = time()\n",
    "        s = selection_sort(a)  \n",
    "        t1 = time()\n",
    "        b3.append(t1-t0)  # record selection time\n",
    "        \n",
    "        # Merge time sort\n",
    "        t0 = time()\n",
    "        s = merge_sort(a)  \n",
    "        t1 = time()\n",
    "        b4.append(t1-t0)  # record merge time\n",
    "        \n",
    "        # Counting time sort\n",
    "        t0 = time()\n",
    "        s = counting_sort(a)  # sort with counting sort\n",
    "        t1 = time()\n",
    "        b5.append(t1-t0)  # record counting time\n",
    "\n",
    "\n",
    "    print(\"size \\tBubble Sort\\tInsertion Sort\\tSelection Sort\\tMerge Sort\\tCounting Sort\")\n",
    "    print(\"_____________________________________________________________________________________________________\")\n",
    "    for i, cur_n in enumerate(size):\n",
    "        print(\"%d\\t%0.5f \\t%0.5f \\t%0.5f \\t%0.5f \\t%0.5f\"%(cur_n,b1[i],b2[i],b3[i],b4[i],b5[i]))\n",
    "benchmark()\n",
    "print(\"               \")\n",
    "print(\"_________________________________________________________________________________________________________\")\n",
    "print(\"               \")\n",
    "\n",
    "print(\" The average of the 10 runs for each algorithm\")\n",
    "print(\"Results will be printed in miliseconds and it will take around 40 min to execute outputs \")\n",
    "print(\"               \")\n",
    "size = [100,250,500,750,1000,1250,2500,3750,5000,6250,7500,8750,10000]\n",
    "print(\"               \")\n",
    "avg_bubble = [] #Create a list to hold the average time of ten runs\n",
    "avg_insertion = [] #I will calculate the average of the ten run times for each input size\n",
    "avg_selection = [] #I will append the average for each input size to this list\n",
    "avg_merge = [] #Python append to a list: https://www.w3schools.com/python/ref_list_append.asp\n",
    "avg_counting = []\n",
    "\n",
    "for array in size:\n",
    "      # create benchmark array which will generate random array\n",
    "    benchmark_a = random_array(array) \n",
    "    # Create lists for all sorts. Lists will be used for ten runs of each algorithm\n",
    "    bubble_time = []  \n",
    "    insertion_time = []  \n",
    "    selection_time = [] \n",
    "    merge_time = []\n",
    "    counting_time = []\n",
    "\n",
    "    # for loop will execute array 10 times for each algorithm\n",
    "    for runs in range (10):                                       # t0 - start time\n",
    "                                                                  # t1 - end time\n",
    "       \n",
    "        # Bubble Sort time \n",
    "        t0 = time.time()  \n",
    "        bubble_sort(list(benchmark_a)) # array generated from random_array is passed into algorithms\n",
    "        t1 = time.time()  \n",
    "        time_elapsed = t1 - t0 # time_elapsed calculates the difference between start time and finish time\n",
    "        \n",
    "        bubble_time.append(time_elapsed)  # record time for each run \n",
    "                                          # and it's appended to lists which I created before\n",
    "        \n",
    "        \n",
    "         # Insertion sort time\n",
    "        t0 = time.time()\n",
    "        insertion_sort(list(benchmark_a))\n",
    "        t1 = time.time()\n",
    "        time_elapsed = t1 - t0\n",
    "        \n",
    "        insertion_time.append(time_elapsed) \n",
    "        \n",
    "        \n",
    "        # Selection sort time\n",
    "        t0 = time.time()\n",
    "        selection_sort(list(benchmark_a))\n",
    "        t1 = time.time()\n",
    "        time_elapsed = t1 - t0\n",
    "        \n",
    "        selection_time.append(time_elapsed)\n",
    "        \n",
    "        \n",
    "        # Merge Sort time\n",
    "        t0 = time.time()\n",
    "        merge_sort(list(benchmark_a))\n",
    "        t1 = time.time()\n",
    "        time_elapsed = t1 - t0\n",
    "       \n",
    "        merge_time.append(time_elapsed)\n",
    "        \n",
    "        \n",
    "        # Counting sort time\n",
    "        t0 = time.time()\n",
    "        counting_sort(list(benchmark_a))\n",
    "        t1 = time.time()\n",
    "        time_elapsed = t1 - t0\n",
    "        \n",
    "        counting_time.append(time_elapsed)\n",
    "    \n",
    "    # numpy.mean will return the average of an array of ten run times for each algorithm\n",
    "    # Taken from: https://numpy.org/devdocs/reference/generated/numpy.mean.html\n",
    "    # and https://www.w3schools.com/python/numpy_creating_arrays.asp  \n",
    "    # and https://stackoverflow.com/questions/20054243/np-mean-vs-np-average-in-python-numpy all on 06/05/2020\n",
    "    avg_time_bubble_sort = np.mean(bubble_time)* 1000 # multiply by 1000 to get miliseconds\n",
    "    # Taken from: https://stackoverflow.com/questions/766335/python-speed-testing-time-difference-milliseconds\n",
    "    avg_bubble.append(avg_time_bubble_sort)  # record the average time\n",
    "    \n",
    "    \n",
    "    avg_time_insertion_sort = np.mean(insertion_time)* 1000\n",
    "    avg_insertion.append(avg_time_insertion_sort)\n",
    "    \n",
    "    avg_time_selection_sort = np.mean(selection_time)* 1000\n",
    "    avg_selection.append(avg_time_selection_sort)\n",
    "    \n",
    "    \n",
    "    avg_time_merge_sort = np.mean(merge_time)* 1000\n",
    "    avg_merge.append(avg_time_merge_sort)\n",
    "    \n",
    "    \n",
    "    avg_time_counting_sort = np.mean(counting_time)* 1000\n",
    "    avg_counting.append(avg_time_counting_sort)  \n",
    "\n",
    "    \n",
    "\n",
    "print(f\"Average time Bubble:\", avg_bubble)\n",
    "print(\"                                 \")\n",
    "print(f\"Average time Insertion\", avg_insertion)\n",
    "print(\"                                 \")\n",
    "print(f\"Average time Selection\", avg_selection)\n",
    "print(\"                                 \")\n",
    "print(f\"Average time Merge:\", avg_merge)\n",
    "print(\"                                 \")\n",
    "print(f\"Average time Counting:\", avg_counting)\n",
    "print(\"                                 \")\n",
    "print(\"'''''''''''''''''''''''''''''''''''''''''''''''''''''''''''''''''''''''''''''''''''''''''''''''''''''''''''\")"
   ]
  },
  {
   "cell_type": "code",
   "execution_count": null,
   "metadata": {},
   "outputs": [],
   "source": []
  }
 ],
 "metadata": {
  "kernelspec": {
   "display_name": "Python 3",
   "language": "python",
   "name": "python3"
  },
  "language_info": {
   "codemirror_mode": {
    "name": "ipython",
    "version": 3
   },
   "file_extension": ".py",
   "mimetype": "text/x-python",
   "name": "python",
   "nbconvert_exporter": "python",
   "pygments_lexer": "ipython3",
   "version": "3.7.1"
  }
 },
 "nbformat": 4,
 "nbformat_minor": 2
}
